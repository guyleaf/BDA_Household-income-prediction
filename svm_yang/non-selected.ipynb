{
 "cells": [
  {
   "cell_type": "markdown",
   "metadata": {},
   "source": [
    "# SVM Non-selected"
   ]
  },
  {
   "cell_type": "code",
   "execution_count": 1,
   "metadata": {},
   "outputs": [],
   "source": [
    "import pandas as pd\n",
    "import numpy as np\n",
    "from sklearn.svm import SVC\n",
    "from sklearn.metrics import classification_report"
   ]
  },
  {
   "cell_type": "code",
   "execution_count": 2,
   "metadata": {
    "scrolled": true
   },
   "outputs": [],
   "source": [
    "train = pd.read_csv('../data/etrain.csv')\n",
    "test = pd.read_csv('../data/etest.csv')\n",
    "validation = pd.read_csv('../data/evalidation.csv')\n",
    "\n",
    "selected_features = np.load('../selected_features.npy', allow_pickle=True)\n",
    "\n",
    "train = train.drop(columns=selected_features)\n",
    "test = test.drop(columns=selected_features)\n",
    "validation = validation.drop(columns=selected_features)"
   ]
  },
  {
   "cell_type": "markdown",
   "metadata": {},
   "source": [
    "## One vs One"
   ]
  },
  {
   "cell_type": "code",
   "execution_count": 3,
   "metadata": {},
   "outputs": [
    {
     "data": {
      "text/plain": [
       "0.4662253648262374"
      ]
     },
     "execution_count": 3,
     "metadata": {},
     "output_type": "execute_result"
    }
   ],
   "source": [
    "clf_ovo = SVC(decision_function_shape='ovo')\n",
    "train_target = train['target']\n",
    "clf_ovo.fit(train.drop(columns='target'), train_target)\n",
    "validation_target = validation['target']\n",
    "clf_ovo.score(validation.drop(columns='target'), validation_target)"
   ]
  },
  {
   "cell_type": "code",
   "execution_count": 4,
   "metadata": {},
   "outputs": [
    {
     "name": "stdout",
     "output_type": "stream",
     "text": [
      "              precision    recall  f1-score   support\n",
      "\n",
      "           0       0.51      0.57      0.54      2051\n",
      "           1       0.37      0.30      0.33      2090\n",
      "           2       0.36      0.32      0.34      2110\n",
      "           3       0.56      0.66      0.61      2058\n",
      "\n",
      "    accuracy                           0.46      8309\n",
      "   macro avg       0.45      0.46      0.45      8309\n",
      "weighted avg       0.45      0.46      0.45      8309\n",
      "\n"
     ]
    }
   ],
   "source": [
    "test_target = test['target']\n",
    "predict_target = clf_ovo.predict(test.drop(columns='target'))\n",
    "print(classification_report(test_target, predict_target))"
   ]
  },
  {
   "cell_type": "markdown",
   "metadata": {},
   "source": [
    "## One vs Rest (One vs All)"
   ]
  },
  {
   "cell_type": "code",
   "execution_count": 5,
   "metadata": {},
   "outputs": [
    {
     "data": {
      "text/plain": [
       "0.4662253648262374"
      ]
     },
     "execution_count": 5,
     "metadata": {},
     "output_type": "execute_result"
    }
   ],
   "source": [
    "clf_ovr = SVC(decision_function_shape='ovr')\n",
    "train_target = train['target']\n",
    "clf_ovr.fit(train.drop(columns='target'), train_target)\n",
    "validation_target = validation['target']\n",
    "clf_ovr.score(validation.drop(columns='target'), validation_target)"
   ]
  },
  {
   "cell_type": "code",
   "execution_count": 6,
   "metadata": {},
   "outputs": [
    {
     "name": "stdout",
     "output_type": "stream",
     "text": [
      "              precision    recall  f1-score   support\n",
      "\n",
      "           0       0.51      0.57      0.54      2051\n",
      "           1       0.37      0.30      0.33      2090\n",
      "           2       0.36      0.32      0.34      2110\n",
      "           3       0.56      0.66      0.61      2058\n",
      "\n",
      "    accuracy                           0.46      8309\n",
      "   macro avg       0.45      0.46      0.45      8309\n",
      "weighted avg       0.45      0.46      0.45      8309\n",
      "\n"
     ]
    }
   ],
   "source": [
    "test_target = test['target']\n",
    "predict_target = clf_ovr.predict(test.drop(columns='target'))\n",
    "print(classification_report(test_target, predict_target))"
   ]
  },
  {
   "cell_type": "code",
   "execution_count": null,
   "metadata": {},
   "outputs": [],
   "source": []
  }
 ],
 "metadata": {
  "kernelspec": {
   "display_name": "Python 3",
   "language": "python",
   "name": "python3"
  },
  "language_info": {
   "codemirror_mode": {
    "name": "ipython",
    "version": 3
   },
   "file_extension": ".py",
   "mimetype": "text/x-python",
   "name": "python",
   "nbconvert_exporter": "python",
   "pygments_lexer": "ipython3",
   "version": "3.7.7"
  }
 },
 "nbformat": 4,
 "nbformat_minor": 4
}
