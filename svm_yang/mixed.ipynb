{
 "cells": [
  {
   "cell_type": "markdown",
   "metadata": {},
   "source": [
    "# SVM Mixed"
   ]
  },
  {
   "cell_type": "code",
   "execution_count": 1,
   "metadata": {},
   "outputs": [],
   "source": [
    "import pandas as pd\n",
    "import numpy as np\n",
    "from sklearn.svm import SVC\n",
    "from sklearn.svm import LinearSVC\n",
    "from sklearn.metrics import classification_report"
   ]
  },
  {
   "cell_type": "code",
   "execution_count": 2,
   "metadata": {
    "scrolled": true
   },
   "outputs": [],
   "source": [
    "train = pd.read_csv('../data/etrain.csv')\n",
    "test = pd.read_csv('../data/etest.csv')\n",
    "validation = pd.read_csv('../data/evalidation.csv')"
   ]
  },
  {
   "cell_type": "markdown",
   "metadata": {},
   "source": [
    "## One vs One"
   ]
  },
  {
   "cell_type": "code",
   "execution_count": 3,
   "metadata": {},
   "outputs": [
    {
     "data": {
      "text/plain": [
       "0.6873777644049948"
      ]
     },
     "execution_count": 3,
     "metadata": {},
     "output_type": "execute_result"
    }
   ],
   "source": [
    "clf_ovo = LinearSVC(penalty='l2')\n",
    "train_target = train['target']\n",
    "clf_ovo.fit(train.drop(columns='target'), train_target)\n",
    "validation_target = validation['target']\n",
    "clf_ovo.score(validation.drop(columns='target'), validation_target)"
   ]
  },
  {
   "cell_type": "code",
   "execution_count": 4,
   "metadata": {},
   "outputs": [
    {
     "name": "stdout",
     "output_type": "stream",
     "text": [
      "              precision    recall  f1-score   support\n",
      "\n",
      "           0       0.70      0.88      0.78      2051\n",
      "           1       0.56      0.46      0.51      2090\n",
      "           2       0.62      0.51      0.56      2110\n",
      "           3       0.81      0.89      0.85      2058\n",
      "\n",
      "    accuracy                           0.69      8309\n",
      "   macro avg       0.67      0.69      0.68      8309\n",
      "weighted avg       0.67      0.69      0.67      8309\n",
      "\n"
     ]
    }
   ],
   "source": [
    "test_target = test['target']\n",
    "predict_target = clf_ovo.predict(test.drop(columns='target'))\n",
    "print(classification_report(test_target, predict_target))"
   ]
  },
  {
   "cell_type": "markdown",
   "metadata": {},
   "source": [
    "## One vs Rest (One vs All)"
   ]
  },
  {
   "cell_type": "code",
   "execution_count": 5,
   "metadata": {},
   "outputs": [
    {
     "data": {
      "text/plain": [
       "0.6873777644049948"
      ]
     },
     "execution_count": 5,
     "metadata": {},
     "output_type": "execute_result"
    }
   ],
   "source": [
    "clf_ovr = LinearSVC(tol=1e-06)\n",
    "train_target = train['target']\n",
    "clf_ovr.fit(train.drop(columns='target'), train_target)\n",
    "validation_target = validation['target']\n",
    "clf_ovr.score(validation.drop(columns='target'), validation_target)"
   ]
  },
  {
   "cell_type": "code",
   "execution_count": 6,
   "metadata": {},
   "outputs": [
    {
     "name": "stdout",
     "output_type": "stream",
     "text": [
      "              precision    recall  f1-score   support\n",
      "\n",
      "           0       0.70      0.88      0.78      2051\n",
      "           1       0.56      0.46      0.51      2090\n",
      "           2       0.62      0.51      0.56      2110\n",
      "           3       0.81      0.89      0.85      2058\n",
      "\n",
      "    accuracy                           0.69      8309\n",
      "   macro avg       0.67      0.69      0.68      8309\n",
      "weighted avg       0.67      0.69      0.67      8309\n",
      "\n"
     ]
    }
   ],
   "source": [
    "test_target = test['target']\n",
    "predict_target = clf_ovr.predict(test.drop(columns='target'))\n",
    "print(classification_report(test_target, predict_target))"
   ]
  }
 ],
 "metadata": {
  "kernelspec": {
   "display_name": "Python 3",
   "language": "python",
   "name": "python3"
  },
  "language_info": {
   "codemirror_mode": {
    "name": "ipython",
    "version": 3
   },
   "file_extension": ".py",
   "mimetype": "text/x-python",
   "name": "python",
   "nbconvert_exporter": "python",
   "pygments_lexer": "ipython3",
   "version": "3.7.7"
  }
 },
 "nbformat": 4,
 "nbformat_minor": 4
}
