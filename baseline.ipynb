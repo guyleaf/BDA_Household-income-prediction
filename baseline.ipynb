{
 "cells": [
  {
   "cell_type": "code",
   "execution_count": 57,
   "metadata": {},
   "outputs": [],
   "source": [
    "import pandas as pd\n",
    "import numpy as np\n",
    "import matplotlib.pyplot as plt"
   ]
  },
  {
   "cell_type": "code",
   "execution_count": 17,
   "metadata": {},
   "outputs": [],
   "source": [
    "processed_dataset = pd.read_csv('processed_dataset.csv')\n",
    "# encoded_dataset = pd.read_csv('encoded_dataset.csv')\n",
    "numeric_features = np.load('numeric_features.npy')\n",
    "target = processed_dataset[[\"target\"]]\n",
    "\n",
    "processed_dataset.drop([\"target\", \"Total Household Income\"], axis=1, inplace=True)\n",
    "encoded_dataset = pd.get_dummies(processed_dataset, sparse=True)"
   ]
  },
  {
   "cell_type": "markdown",
   "metadata": {},
   "source": [
    "## Data reduction"
   ]
  },
  {
   "cell_type": "markdown",
   "metadata": {},
   "source": [
    "### Factor analysis of mixed data (FAMD)"
   ]
  },
  {
   "cell_type": "code",
   "execution_count": 4,
   "metadata": {},
   "outputs": [],
   "source": [
    "import prince"
   ]
  },
  {
   "cell_type": "code",
   "execution_count": 4,
   "metadata": {},
   "outputs": [
    {
     "data": {
      "text/html": [
       "<div>\n",
       "<style scoped>\n",
       "    .dataframe tbody tr th:only-of-type {\n",
       "        vertical-align: middle;\n",
       "    }\n",
       "\n",
       "    .dataframe tbody tr th {\n",
       "        vertical-align: top;\n",
       "    }\n",
       "\n",
       "    .dataframe thead th {\n",
       "        text-align: right;\n",
       "    }\n",
       "</style>\n",
       "<table border=\"1\" class=\"dataframe\">\n",
       "  <thead>\n",
       "    <tr style=\"text-align: right;\">\n",
       "      <th></th>\n",
       "      <th>0</th>\n",
       "      <th>1</th>\n",
       "      <th>2</th>\n",
       "      <th>3</th>\n",
       "      <th>4</th>\n",
       "      <th>5</th>\n",
       "    </tr>\n",
       "  </thead>\n",
       "  <tbody>\n",
       "    <tr>\n",
       "      <th>Total Food Expenditure</th>\n",
       "      <td>0.759984</td>\n",
       "      <td>0.474630</td>\n",
       "      <td>0.190890</td>\n",
       "      <td>0.220258</td>\n",
       "      <td>0.253304</td>\n",
       "      <td>-0.011398</td>\n",
       "    </tr>\n",
       "    <tr>\n",
       "      <th>Total Number of Family members</th>\n",
       "      <td>0.172079</td>\n",
       "      <td>0.777430</td>\n",
       "      <td>0.046792</td>\n",
       "      <td>0.561884</td>\n",
       "      <td>0.523693</td>\n",
       "      <td>0.354891</td>\n",
       "    </tr>\n",
       "    <tr>\n",
       "      <th>Number of Airconditioner</th>\n",
       "      <td>0.596956</td>\n",
       "      <td>0.011561</td>\n",
       "      <td>0.425061</td>\n",
       "      <td>-0.174133</td>\n",
       "      <td>0.027311</td>\n",
       "      <td>-0.335515</td>\n",
       "    </tr>\n",
       "    <tr>\n",
       "      <th>Total Number of Family members</th>\n",
       "      <td>0.172079</td>\n",
       "      <td>0.777430</td>\n",
       "      <td>0.046792</td>\n",
       "      <td>0.561884</td>\n",
       "      <td>0.523693</td>\n",
       "      <td>0.354891</td>\n",
       "    </tr>\n",
       "    <tr>\n",
       "      <th>Total Number of Family members</th>\n",
       "      <td>0.172079</td>\n",
       "      <td>0.777430</td>\n",
       "      <td>0.046792</td>\n",
       "      <td>0.561884</td>\n",
       "      <td>0.523693</td>\n",
       "      <td>0.354891</td>\n",
       "    </tr>\n",
       "    <tr>\n",
       "      <th>Agricultural Household indicator</th>\n",
       "      <td>-0.060387</td>\n",
       "      <td>0.221194</td>\n",
       "      <td>-0.143347</td>\n",
       "      <td>-0.666846</td>\n",
       "      <td>0.506250</td>\n",
       "      <td>0.778338</td>\n",
       "    </tr>\n",
       "  </tbody>\n",
       "</table>\n",
       "</div>"
      ],
      "text/plain": [
       "                                         0         1         2         3  \\\n",
       "Total Food Expenditure            0.759984  0.474630  0.190890  0.220258   \n",
       "Total Number of Family members    0.172079  0.777430  0.046792  0.561884   \n",
       "Number of Airconditioner          0.596956  0.011561  0.425061 -0.174133   \n",
       "Total Number of Family members    0.172079  0.777430  0.046792  0.561884   \n",
       "Total Number of Family members    0.172079  0.777430  0.046792  0.561884   \n",
       "Agricultural Household indicator -0.060387  0.221194 -0.143347 -0.666846   \n",
       "\n",
       "                                         4         5  \n",
       "Total Food Expenditure            0.253304 -0.011398  \n",
       "Total Number of Family members    0.523693  0.354891  \n",
       "Number of Airconditioner          0.027311 -0.335515  \n",
       "Total Number of Family members    0.523693  0.354891  \n",
       "Total Number of Family members    0.523693  0.354891  \n",
       "Agricultural Household indicator  0.506250  0.778338  "
      ]
     },
     "execution_count": 4,
     "metadata": {},
     "output_type": "execute_result"
    }
   ],
   "source": [
    "famd = prince.FAMD(n_components=6, n_iter=3, copy=True, check_input=True, engine='auto', random_state=42)\n",
    "famd = famd.fit()\n",
    "corr = famd.column_correlations(processed_dataset)\n",
    "columns = corr.idxmax()\n",
    "corr.loc[columns, range(6)]"
   ]
  },
  {
   "cell_type": "raw",
   "metadata": {},
   "source": [
    "import seaborn as sns\n",
    "import matplotlib.pyplot as plt\n",
    "plt.figure(figsize=(15, 15))\n",
    "sns.heatmap(famd.column_correlations(processed_dataset))"
   ]
  },
  {
   "cell_type": "markdown",
   "metadata": {},
   "source": [
    "### PCA"
   ]
  },
  {
   "cell_type": "code",
   "execution_count": 38,
   "metadata": {},
   "outputs": [
    {
     "data": {
      "text/html": [
       "<div>\n",
       "<style scoped>\n",
       "    .dataframe tbody tr th:only-of-type {\n",
       "        vertical-align: middle;\n",
       "    }\n",
       "\n",
       "    .dataframe tbody tr th {\n",
       "        vertical-align: top;\n",
       "    }\n",
       "\n",
       "    .dataframe thead th {\n",
       "        text-align: right;\n",
       "    }\n",
       "</style>\n",
       "<table border=\"1\" class=\"dataframe\">\n",
       "  <thead>\n",
       "    <tr style=\"text-align: right;\">\n",
       "      <th></th>\n",
       "      <th>0</th>\n",
       "      <th>1</th>\n",
       "      <th>2</th>\n",
       "      <th>3</th>\n",
       "      <th>4</th>\n",
       "      <th>5</th>\n",
       "    </tr>\n",
       "  </thead>\n",
       "  <tbody>\n",
       "    <tr>\n",
       "      <th>Total Food Expenditure</th>\n",
       "      <td>0.842704</td>\n",
       "      <td>0.352396</td>\n",
       "      <td>0.027802</td>\n",
       "      <td>-0.149604</td>\n",
       "      <td>0.012247</td>\n",
       "      <td>0.132561</td>\n",
       "    </tr>\n",
       "    <tr>\n",
       "      <th>Total Number of Family members</th>\n",
       "      <td>0.239667</td>\n",
       "      <td>0.814827</td>\n",
       "      <td>0.071334</td>\n",
       "      <td>0.027213</td>\n",
       "      <td>0.199304</td>\n",
       "      <td>-0.181753</td>\n",
       "    </tr>\n",
       "    <tr>\n",
       "      <th>Agricultural Household indicator</th>\n",
       "      <td>-0.007081</td>\n",
       "      <td>-0.002611</td>\n",
       "      <td>0.421454</td>\n",
       "      <td>-0.226829</td>\n",
       "      <td>0.068380</td>\n",
       "      <td>0.118673</td>\n",
       "    </tr>\n",
       "    <tr>\n",
       "      <th>Crop Farming and Gardening expenses</th>\n",
       "      <td>0.056014</td>\n",
       "      <td>0.068605</td>\n",
       "      <td>0.228613</td>\n",
       "      <td>0.531361</td>\n",
       "      <td>-0.179240</td>\n",
       "      <td>0.196338</td>\n",
       "    </tr>\n",
       "    <tr>\n",
       "      <th>Household Head Age</th>\n",
       "      <td>0.081501</td>\n",
       "      <td>-0.266032</td>\n",
       "      <td>-0.234476</td>\n",
       "      <td>0.225488</td>\n",
       "      <td>0.454918</td>\n",
       "      <td>0.401465</td>\n",
       "    </tr>\n",
       "    <tr>\n",
       "      <th>Alcoholic Beverages Expenditure</th>\n",
       "      <td>0.199135</td>\n",
       "      <td>0.160082</td>\n",
       "      <td>-0.121955</td>\n",
       "      <td>-0.112601</td>\n",
       "      <td>-0.212697</td>\n",
       "      <td>0.458982</td>\n",
       "    </tr>\n",
       "  </tbody>\n",
       "</table>\n",
       "</div>"
      ],
      "text/plain": [
       "                                            0         1         2         3  \\\n",
       "Total Food Expenditure               0.842704  0.352396  0.027802 -0.149604   \n",
       "Total Number of Family members       0.239667  0.814827  0.071334  0.027213   \n",
       "Agricultural Household indicator    -0.007081 -0.002611  0.421454 -0.226829   \n",
       "Crop Farming and Gardening expenses  0.056014  0.068605  0.228613  0.531361   \n",
       "Household Head Age                   0.081501 -0.266032 -0.234476  0.225488   \n",
       "Alcoholic Beverages Expenditure      0.199135  0.160082 -0.121955 -0.112601   \n",
       "\n",
       "                                            4         5  \n",
       "Total Food Expenditure               0.012247  0.132561  \n",
       "Total Number of Family members       0.199304 -0.181753  \n",
       "Agricultural Household indicator     0.068380  0.118673  \n",
       "Crop Farming and Gardening expenses -0.179240  0.196338  \n",
       "Household Head Age                   0.454918  0.401465  \n",
       "Alcoholic Beverages Expenditure     -0.212697  0.458982  "
      ]
     },
     "execution_count": 38,
     "metadata": {},
     "output_type": "execute_result"
    }
   ],
   "source": [
    "pca_p = prince.PCA(n_components=6, n_iter=3, copy=True, check_input=True, engine='auto', random_state=42)\n",
    "pca_p = pca_p.fit(processed_dataset[numeric_features])\n",
    "reduced_data = pca_p.transform(processed_dataset[numeric_features])\n",
    "corr = pca_p.column_correlations(processed_dataset[numeric_features])\n",
    "columns = corr.idxmax()\n",
    "corr.loc[columns, range(6)]"
   ]
  },
  {
   "cell_type": "markdown",
   "metadata": {},
   "source": [
    "## Classifier"
   ]
  },
  {
   "cell_type": "code",
   "execution_count": 46,
   "metadata": {},
   "outputs": [],
   "source": [
    "from sklearn.model_selection import train_test_split\n",
    "x_train, x_test, y_train, y_test = train_test_split(processed_dataset[numeric_features], target, test_size=0.2, random_state=20)\n",
    "x_train, x_validation, y_train, y_validation = train_test_split(x_train, y_train, test_size=0.2, random_state=20)"
   ]
  },
  {
   "cell_type": "code",
   "execution_count": 60,
   "metadata": {},
   "outputs": [
    {
     "name": "stdout",
     "output_type": "stream",
     "text": [
      "target\n",
      "2         6688\n",
      "3         6666\n",
      "0         6648\n",
      "1         6586\n",
      "dtype: int64\n",
      "target\n",
      "1         1709\n",
      "0         1688\n",
      "3         1662\n",
      "2         1588\n",
      "dtype: int64\n",
      "target\n",
      "2         2110\n",
      "1         2090\n",
      "3         2058\n",
      "0         2051\n",
      "dtype: int64\n"
     ]
    }
   ],
   "source": [
    "train = y_train.value_counts()\n",
    "print(train)\n",
    "validation = y_validation.value_counts()\n",
    "print(validation)\n",
    "test = y_test.value_counts()\n",
    "print(test)"
   ]
  },
  {
   "cell_type": "markdown",
   "metadata": {},
   "source": [
    "### Numeric classifier"
   ]
  },
  {
   "cell_type": "markdown",
   "metadata": {},
   "source": [
    "#### LogisticRegression"
   ]
  },
  {
   "cell_type": "markdown",
   "metadata": {},
   "source": [
    "##### No reduction"
   ]
  },
  {
   "cell_type": "code",
   "execution_count": 47,
   "metadata": {},
   "outputs": [
    {
     "name": "stdout",
     "output_type": "stream",
     "text": [
      "Test score:  0.6926804774371418\n"
     ]
    }
   ],
   "source": [
    "from sklearn.linear_model import LogisticRegression\n",
    "from sklearn.model_selection import cross_validate\n",
    "clf = LogisticRegression(penalty='l2',random_state=20, max_iter=250, multi_class='multinomial', solver='saga')\n",
    "result = cross_validate(clf, x_train, y_train.values.ravel(), cv=5)\n",
    "print(\"Test score: \", result['test_score'].mean())"
   ]
  },
  {
   "cell_type": "code",
   "execution_count": 48,
   "metadata": {},
   "outputs": [
    {
     "name": "stdout",
     "output_type": "stream",
     "text": [
      "Train score:  0.6996389348578306\n",
      "Validation score:  0.691740634872875\n",
      "Test score:  0.6968347574918763\n"
     ]
    }
   ],
   "source": [
    "clf = clf.fit(x_train, y_train.values.ravel())\n",
    "result = clf.score(x_train, y_train)\n",
    "print(\"Train score: \", result)\n",
    "result = clf.score(x_validation, y_validation)\n",
    "print(\"Validation score: \", result)\n",
    "result = clf.score(x_test, y_test)\n",
    "print(\"Test score: \", result)"
   ]
  },
  {
   "cell_type": "markdown",
   "metadata": {},
   "source": [
    "#### Reduction"
   ]
  },
  {
   "cell_type": "code",
   "execution_count": 52,
   "metadata": {
    "scrolled": true
   },
   "outputs": [
    {
     "name": "stdout",
     "output_type": "stream",
     "text": [
      "#1\n",
      "\n",
      "Train score:  0.6802316834662253\n",
      "Validation score:  0.6836166691740635\n",
      "Test score:  0.6756529064869419\n",
      "#2\n",
      "\n",
      "Train score:  0.6818113434632165\n",
      "Validation score:  0.6843688882202498\n",
      "Test score:  0.6752918522084487\n",
      "#3\n",
      "\n",
      "Train score:  0.6938092372498872\n",
      "Validation score:  0.7021212577102453\n",
      "Test score:  0.6839571548922855\n",
      "#4\n",
      "\n",
      "Train score:  0.6982849405746954\n",
      "Validation score:  0.7088912291259215\n",
      "Test score:  0.6950294860994103\n",
      "#5\n",
      "\n",
      "Train score:  0.6977583872423649\n",
      "Validation score:  0.7084398976982097\n",
      "Test score:  0.6950294860994103\n",
      "#6\n",
      "\n",
      "Train score:  0.7043403038964947\n",
      "Validation score:  0.7052805777042275\n",
      "Test score:  0.7008063545553015\n",
      "#7\n",
      "\n",
      "Train score:  0.7081013991274259\n",
      "Validation score:  0.7093425605536332\n",
      "Test score:  0.7044168973402335\n",
      "#8\n",
      "\n",
      "Train score:  0.717128027681661\n",
      "Validation score:  0.7195727395817663\n",
      "Test score:  0.7145264171380431\n",
      "#9\n",
      "\n",
      "Train score:  0.7236723333834812\n",
      "Validation score:  0.723634722431172\n",
      "Test score:  0.7225899626910579\n",
      "#10\n",
      "\n",
      "Train score:  0.7250639386189258\n",
      "Validation score:  0.7233338348126974\n",
      "Test score:  0.7268022626068119\n",
      "#11\n",
      "\n",
      "Train score:  0.7289754776590943\n",
      "Validation score:  0.7299533624191364\n",
      "Test score:  0.7300517511132507\n",
      "#12\n",
      "\n",
      "Train score:  0.7303294719422295\n",
      "Validation score:  0.7311569128930344\n",
      "Test score:  0.7312552653748947\n",
      "#13\n",
      "\n",
      "Train score:  0.7372874981194524\n",
      "Validation score:  0.7350684519332029\n",
      "Test score:  0.7354675652906487\n",
      "#14\n",
      "\n",
      "Train score:  0.7390176019256808\n",
      "Validation score:  0.7353693395516775\n",
      "Test score:  0.7355879167168131\n",
      "#15\n",
      "\n",
      "Train score:  0.7391304347826086\n",
      "Validation score:  0.7353693395516775\n",
      "Test score:  0.7378745938139367\n",
      "#16\n",
      "\n",
      "Train score:  0.7390176019256808\n",
      "Validation score:  0.7337144576500677\n",
      "Test score:  0.7383559995185943\n",
      "#17\n",
      "\n",
      "Train score:  0.7395817662103205\n",
      "Validation score:  0.7388295471641342\n",
      "Test score:  0.7376338909616079\n",
      "#18\n",
      "\n",
      "Train score:  0.7425906423950654\n",
      "Validation score:  0.7383782157364225\n",
      "Test score:  0.7369117824046215\n",
      "#19\n",
      "\n",
      "Train score:  0.7452234090567174\n",
      "Validation score:  0.740484429065744\n",
      "Test score:  0.7423275965820195\n",
      "#20\n",
      "\n",
      "Train score:  0.7484203400030088\n",
      "Validation score:  0.7459004061982849\n",
      "Test score:  0.7436514622698279\n",
      "#21\n",
      "\n",
      "Train score:  0.7474424552429667\n",
      "Validation score:  0.7449977433428614\n",
      "Test score:  0.7418461908773619\n",
      "#22\n",
      "\n",
      "Train score:  0.7468406800060178\n",
      "Validation score:  0.7437941928689634\n",
      "Test score:  0.7435311108436635\n",
      "#23\n",
      "\n",
      "Train score:  0.7475176771475853\n",
      "Validation score:  0.7449977433428614\n",
      "Test score:  0.7432904079913347\n",
      "#24\n",
      "\n",
      "Train score:  0.7472920114337295\n",
      "Validation score:  0.7457499623890477\n",
      "Test score:  0.7435311108436635\n",
      "#25\n",
      "\n",
      "Train score:  0.750112832856928\n",
      "Validation score:  0.7489092823830299\n",
      "Test score:  0.7461788422192803\n",
      "#26\n",
      "\n",
      "Train score:  0.7511659395215887\n",
      "Validation score:  0.7505641642846397\n",
      "Test score:  0.7446142736791431\n",
      "#27\n",
      "\n",
      "Train score:  0.7514292161877538\n",
      "Validation score:  0.7504137204754024\n",
      "Test score:  0.7448549765314719\n",
      "#28\n",
      "\n",
      "Train score:  0.7521438242816308\n",
      "Validation score:  0.751316383330826\n",
      "Test score:  0.7471416536285955\n",
      "#29\n",
      "\n",
      "Train score:  0.7524447119001053\n",
      "Validation score:  0.7514668271400632\n",
      "Test score:  0.7464195450716091\n"
     ]
    }
   ],
   "source": [
    "results = []\n",
    "for n in range(1, 30):\n",
    "    pca_p = prince.PCA(n_components=n, n_iter=1000, copy=True, check_input=True, engine='auto', random_state=42)\n",
    "    pca_p = pca_p.fit(x_train)\n",
    "    reduced_x_train = pca_p.transform(x_train)\n",
    "    \n",
    "    clf = LogisticRegression(penalty='l2',random_state=20, max_iter=1000, multi_class='multinomial', solver='saga')\n",
    "    clf = clf.fit(reduced_x_train, y_train.values.ravel())\n",
    "    \n",
    "    print(f\"#{n}\\n\")\n",
    "    result_train = clf.score(reduced_x_train, y_train)\n",
    "    print(\"Train score: \", result_train)\n",
    "    reduced_x_validation = pca_p.transform(x_validation)\n",
    "    result_validation = clf.score(reduced_x_validation, y_validation)\n",
    "    print(\"Validation score: \", result_validation)\n",
    "    reduced_x_test = pca_p.transform(x_test)\n",
    "    result_test = clf.score(reduced_x_test, y_test)\n",
    "    print(\"Test score: \", result_test)\n",
    "    results.append([result_train, result_validation, result_test])"
   ]
  },
  {
   "cell_type": "code",
   "execution_count": null,
   "metadata": {},
   "outputs": [],
   "source": [
    "% matplotlib inline\n",
    "plt.rcParams[\"figure.figsize\"] = (12,6)\n",
    "\n",
    "fig, ax = plt.subplots()\n",
    "xi = np.arange(1, 30, step=1)\n",
    "y = np.cumsum(pca.explained_variance_ratio_)\n",
    "\n",
    "plt.ylim(0.0,1.1)\n",
    "plt.plot(xi, y, marker='o', linestyle='--', color='b')\n",
    "\n",
    "plt.xlabel('Number of Components')\n",
    "plt.xticks(np.arange(0, 11, step=1)) #change from 0-based array index to 1-based human-readable label\n",
    "plt.ylabel('Cumulative variance (%)')\n",
    "plt.title('The number of components needed to explain variance')\n",
    "\n",
    "plt.axhline(y=0.95, color='r', linestyle='-')\n",
    "plt.text(0.5, 0.85, '95% cut-off threshold', color = 'red', fontsize=16)\n",
    "\n",
    "ax.grid(axis='x')\n",
    "plt.show()"
   ]
  },
  {
   "cell_type": "code",
   "execution_count": 40,
   "metadata": {},
   "outputs": [
    {
     "name": "stdout",
     "output_type": "stream",
     "text": [
      "Train score:  0.6991424702873477\n",
      "Test score:  0.6949091346732459\n"
     ]
    }
   ],
   "source": [
    "clf_reduced = clf_reduced.fit(reduced_x_train, reduced_y_train.values.ravel())\n",
    "result = clf_reduced.score(reduced_x_train, reduced_y_train)\n",
    "print(\"Train score: \", result)\n",
    "result = clf_reduced.score(reduced_x_test, reduced_y_test)\n",
    "print(\"Test score: \", result)"
   ]
  },
  {
   "cell_type": "code",
   "execution_count": 9,
   "metadata": {},
   "outputs": [],
   "source": [
    "from sklearn.tree import DecisionTreeClassifier\n",
    "dtc = DecisionTreeClassifier()"
   ]
  }
 ],
 "metadata": {
  "kernelspec": {
   "display_name": "Python 3",
   "language": "python",
   "name": "python3"
  },
  "language_info": {
   "codemirror_mode": {
    "name": "ipython",
    "version": 3
   },
   "file_extension": ".py",
   "mimetype": "text/x-python",
   "name": "python",
   "nbconvert_exporter": "python",
   "pygments_lexer": "ipython3",
   "version": "3.7.7"
  }
 },
 "nbformat": 4,
 "nbformat_minor": 4
}
