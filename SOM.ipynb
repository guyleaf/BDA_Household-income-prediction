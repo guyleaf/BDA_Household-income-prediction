{
 "cells": [
  {
   "cell_type": "code",
   "execution_count": 12,
   "metadata": {},
   "outputs": [],
   "source": [
    "from minisom import MiniSom\n",
    "import numpy as np\n",
    "import pandas as pd\n",
    "import matplotlib.pyplot as plt"
   ]
  },
  {
   "cell_type": "code",
   "execution_count": 2,
   "metadata": {},
   "outputs": [],
   "source": [
    "train = pd.read_csv('data/etrain.csv')\n",
    "validation = pd.read_csv('data/evalidation.csv')\n",
    "test = pd.read_csv('data/etest.csv')\n",
    "features = np.load('selected_features.npy', allow_pickle=True)"
   ]
  },
  {
   "cell_type": "code",
   "execution_count": 3,
   "metadata": {},
   "outputs": [],
   "source": [
    "def classify(som, data, x_train, y_train):\n",
    "    \"\"\"Classifies each sample in data in one of the classes definited\n",
    "    using the method labels_map.\n",
    "    Returns a list of the same length of data where the i-th element\n",
    "    is the class assigned to data[i].\n",
    "    \"\"\"\n",
    "    winmap = som.labels_map(x_train, y_train)\n",
    "    default_class = np.sum(list(winmap.values())).most_common()[0][0]\n",
    "    result = []\n",
    "    for d in data:\n",
    "        win_position = som.winner(d)\n",
    "        if win_position in winmap:\n",
    "            result.append(winmap[win_position].most_common()[0][0])\n",
    "        else:\n",
    "            result.append(default_class)\n",
    "    return result"
   ]
  },
  {
   "cell_type": "code",
   "execution_count": 30,
   "metadata": {},
   "outputs": [
    {
     "name": "stdout",
     "output_type": "stream",
     "text": [
      " [ 500 / 500 ] 100% - 0:00:00 left \n",
      " quantization error: 1.8029088965731181\n"
     ]
    }
   ],
   "source": [
    "from sklearn.metrics import classification_report\n",
    "\n",
    "x_train = train[features].values\n",
    "y_train = train['target'].values\n",
    "x_validation = validation[features].values\n",
    "y_validation = validation['target'].values\n",
    "x_test = test[features].values\n",
    "y_test = test['target'].values\n",
    "\n",
    "size_x = 2\n",
    "size_y = 2\n",
    "som = MiniSom(size_x, size_y, len(features), sigma=1, learning_rate=1.2, \n",
    "              neighborhood_function='triangle', random_seed=10)\n",
    "som.random_weights_init(x_train)\n",
    "som.train_random(x_train, 500, verbose=True)"
   ]
  },
  {
   "cell_type": "code",
   "execution_count": 31,
   "metadata": {},
   "outputs": [
    {
     "data": {
      "text/plain": [
       "0.0"
      ]
     },
     "execution_count": 31,
     "metadata": {},
     "output_type": "execute_result"
    }
   ],
   "source": [
    "som.topographic_error(x_train)"
   ]
  },
  {
   "cell_type": "code",
   "execution_count": 32,
   "metadata": {},
   "outputs": [
    {
     "name": "stdout",
     "output_type": "stream",
     "text": [
      "[14:51:09] WARNING: C:/Users/Administrator/workspace/xgboost-win64_release_1.3.0/src/learner.cc:1061: Starting in XGBoost 1.3.0, the default evaluation metric used with the objective 'multi:softprob' was changed from 'merror' to 'mlogloss'. Explicitly set eval_metric if you'd like to restore the old behavior.\n",
      "[14:51:12] WARNING: C:/Users/Administrator/workspace/xgboost-win64_release_1.3.0/src/learner.cc:1061: Starting in XGBoost 1.3.0, the default evaluation metric used with the objective 'multi:softprob' was changed from 'merror' to 'mlogloss'. Explicitly set eval_metric if you'd like to restore the old behavior.\n",
      "[14:51:15] WARNING: C:/Users/Administrator/workspace/xgboost-win64_release_1.3.0/src/learner.cc:1061: Starting in XGBoost 1.3.0, the default evaluation metric used with the objective 'multi:softprob' was changed from 'merror' to 'mlogloss'. Explicitly set eval_metric if you'd like to restore the old behavior.\n",
      "[14:51:17] WARNING: C:/Users/Administrator/workspace/xgboost-win64_release_1.3.0/src/learner.cc:1061: Starting in XGBoost 1.3.0, the default evaluation metric used with the objective 'multi:softprob' was changed from 'merror' to 'mlogloss'. Explicitly set eval_metric if you'd like to restore the old behavior.\n",
      "              precision    recall  f1-score   support\n",
      "\n",
      "           0       0.90      0.94      0.92      3159\n",
      "           1       0.79      0.82      0.81      1957\n",
      "           2       0.87      0.66      0.75       770\n",
      "           3       0.99      0.60      0.75       127\n",
      "\n",
      "    accuracy                           0.86      6013\n",
      "   macro avg       0.89      0.76      0.81      6013\n",
      "weighted avg       0.86      0.86      0.86      6013\n",
      "\n",
      "              precision    recall  f1-score   support\n",
      "\n",
      "           0       0.82      0.78      0.80      1175\n",
      "           1       0.74      0.77      0.75      1950\n",
      "           2       0.78      0.81      0.79      2216\n",
      "           3       0.93      0.88      0.91      2113\n",
      "\n",
      "    accuracy                           0.82      7454\n",
      "   macro avg       0.82      0.81      0.81      7454\n",
      "weighted avg       0.82      0.82      0.82      7454\n",
      "\n",
      "              precision    recall  f1-score   support\n",
      "\n",
      "           0       0.84      0.72      0.77       303\n",
      "           1       0.75      0.78      0.77       667\n",
      "           2       0.80      0.83      0.82      1179\n",
      "           3       0.94      0.92      0.93      1711\n",
      "\n",
      "    accuracy                           0.85      3860\n",
      "   macro avg       0.83      0.81      0.82      3860\n",
      "weighted avg       0.86      0.85      0.85      3860\n",
      "\n",
      "              precision    recall  f1-score   support\n",
      "\n",
      "           0       0.87      0.88      0.88      2011\n",
      "           1       0.74      0.74      0.74      2012\n",
      "           2       0.77      0.79      0.78      2523\n",
      "           3       0.92      0.88      0.90      2715\n",
      "\n",
      "    accuracy                           0.83      9261\n",
      "   macro avg       0.82      0.83      0.82      9261\n",
      "weighted avg       0.83      0.83      0.83      9261\n",
      "\n"
     ]
    }
   ],
   "source": [
    "import xgboost as xgb\n",
    "from sklearn.metrics import classification_report\n",
    "rng = np.random.RandomState(31337)\n",
    "\n",
    "models = [xgb.XGBClassifier(n_estimators=100, max_depth=6, learning_rate=0.04, objective='multi:softmax', booster='gbtree',\n",
    "                              reg_alpha=2.0, reg_lambda=2.5, gamma=0.5, min_child_weight=2.0, colsample_bytree=0.7,\n",
    "                              subsample=0.5, use_label_encoder=False, n_jobs=-1, random_state=1) for i in range(size_x*size_y)]\n",
    "\n",
    "# each neuron represents a cluster\n",
    "winner_coordinates = np.array([som.winner(x) for x in x_train]).T\n",
    "# with np.ravel_multi_index we convert the bidimensional\n",
    "# coordinates to a monodimensional index\n",
    "cluster_index = np.ravel_multi_index(winner_coordinates, (size_x, size_y))\n",
    "\n",
    "for c in np.unique(cluster_index):\n",
    "    models[c].fit(x_train[cluster_index == c], y_train[cluster_index == c], verbose=False)\n",
    "    \n",
    "# each neuron represents a cluster\n",
    "winner_coordinates = np.array([som.winner(x) for x in x_train]).T\n",
    "# with np.ravel_multi_index we convert the bidimensional\n",
    "# coordinates to a monodimensional index\n",
    "cluster_index = np.ravel_multi_index(winner_coordinates, (size_x, size_y))\n",
    "for c in np.unique(cluster_index):\n",
    "    print(classification_report(y_train[cluster_index == c], models[c].predict(x_train[cluster_index == c]), zero_division=True))\n"
   ]
  },
  {
   "cell_type": "code",
   "execution_count": 33,
   "metadata": {},
   "outputs": [
    {
     "name": "stdout",
     "output_type": "stream",
     "text": [
      "              precision    recall  f1-score   support\n",
      "\n",
      "           0       0.87      0.91      0.89       811\n",
      "           1       0.73      0.77      0.75       528\n",
      "           2       0.70      0.50      0.58       162\n",
      "           3       0.90      0.42      0.58        45\n",
      "\n",
      "    accuracy                           0.81      1546\n",
      "   macro avg       0.80      0.65      0.70      1546\n",
      "weighted avg       0.80      0.81      0.80      1546\n",
      "\n",
      "              precision    recall  f1-score   support\n",
      "\n",
      "           0       0.75      0.75      0.75       284\n",
      "           1       0.67      0.66      0.66       491\n",
      "           2       0.68      0.73      0.70       536\n",
      "           3       0.89      0.84      0.86       511\n",
      "\n",
      "    accuracy                           0.74      1822\n",
      "   macro avg       0.75      0.74      0.74      1822\n",
      "weighted avg       0.75      0.74      0.74      1822\n",
      "\n",
      "              precision    recall  f1-score   support\n",
      "\n",
      "           0       0.78      0.65      0.71        88\n",
      "           1       0.63      0.63      0.63       183\n",
      "           2       0.69      0.75      0.72       319\n",
      "           3       0.91      0.88      0.89       433\n",
      "\n",
      "    accuracy                           0.78      1023\n",
      "   macro avg       0.75      0.73      0.74      1023\n",
      "weighted avg       0.78      0.78      0.78      1023\n",
      "\n",
      "              precision    recall  f1-score   support\n",
      "\n",
      "           0       0.82      0.84      0.83       505\n",
      "           1       0.63      0.63      0.63       507\n",
      "           2       0.65      0.67      0.66       571\n",
      "           3       0.87      0.82      0.85       673\n",
      "\n",
      "    accuracy                           0.75      2256\n",
      "   macro avg       0.74      0.74      0.74      2256\n",
      "weighted avg       0.75      0.75      0.75      2256\n",
      "\n"
     ]
    }
   ],
   "source": [
    "# each neuron represents a cluster\n",
    "winner_coordinates = np.array([som.winner(x) for x in x_validation]).T\n",
    "# with np.ravel_multi_index we convert the bidimensional\n",
    "# coordinates to a monodimensional index\n",
    "cluster_index = np.ravel_multi_index(winner_coordinates, (size_x, size_y))\n",
    "results_validation = []\n",
    "for c in np.unique(cluster_index):\n",
    "    tmp = classification_report(y_validation[cluster_index == c], models[c].predict(x_validation[cluster_index == c]), zero_division=True)\n",
    "    print(tmp)\n",
    "    results_validation.append(classification_report(y_validation[cluster_index == c], models[c].predict(x_validation[cluster_index == c]), zero_division=True, output_dict=True))"
   ]
  },
  {
   "cell_type": "code",
   "execution_count": 34,
   "metadata": {},
   "outputs": [
    {
     "name": "stdout",
     "output_type": "stream",
     "text": [
      "              precision    recall  f1-score   support\n",
      "\n",
      "           0       0.85      0.91      0.88       958\n",
      "           1       0.70      0.74      0.72       641\n",
      "           2       0.76      0.56      0.64       278\n",
      "           3       1.00      0.34      0.51        50\n",
      "\n",
      "    accuracy                           0.79      1927\n",
      "   macro avg       0.83      0.64      0.69      1927\n",
      "weighted avg       0.79      0.79      0.78      1927\n",
      "\n",
      "              precision    recall  f1-score   support\n",
      "\n",
      "           0       0.76      0.75      0.76       346\n",
      "           1       0.66      0.70      0.68       587\n",
      "           2       0.70      0.70      0.70       662\n",
      "           3       0.89      0.85      0.87       643\n",
      "\n",
      "    accuracy                           0.75      2238\n",
      "   macro avg       0.75      0.75      0.75      2238\n",
      "weighted avg       0.75      0.75      0.75      2238\n",
      "\n",
      "              precision    recall  f1-score   support\n",
      "\n",
      "           0       0.80      0.60      0.68        87\n",
      "           1       0.62      0.66      0.64       212\n",
      "           2       0.69      0.74      0.71       384\n",
      "           3       0.91      0.87      0.89       566\n",
      "\n",
      "    accuracy                           0.78      1249\n",
      "   macro avg       0.75      0.72      0.73      1249\n",
      "weighted avg       0.79      0.78      0.78      1249\n",
      "\n",
      "              precision    recall  f1-score   support\n",
      "\n",
      "           0       0.83      0.81      0.82       660\n",
      "           1       0.62      0.63      0.63       650\n",
      "           2       0.68      0.74      0.71       786\n",
      "           3       0.90      0.83      0.86       799\n",
      "\n",
      "    accuracy                           0.76      2895\n",
      "   macro avg       0.76      0.75      0.75      2895\n",
      "weighted avg       0.76      0.76      0.76      2895\n",
      "\n"
     ]
    }
   ],
   "source": [
    "# each neuron represents a cluster\n",
    "winner_coordinates = np.array([som.winner(x) for x in x_test]).T\n",
    "# with np.ravel_multi_index we convert the bidimensional\n",
    "# coordinates to a monodimensional index\n",
    "cluster_index = np.ravel_multi_index(winner_coordinates, (size_x, size_y))\n",
    "results_test = []\n",
    "for c in np.unique(cluster_index):\n",
    "    tmp = classification_report(y_test[cluster_index == c], models[c].predict(x_test[cluster_index == c]), zero_division=True)\n",
    "    print(tmp)\n",
    "    results_test.append(classification_report(y_test[cluster_index == c], models[c].predict(x_test[cluster_index == c]), zero_division=True, output_dict=True))"
   ]
  },
  {
   "cell_type": "code",
   "execution_count": 35,
   "metadata": {},
   "outputs": [
    {
     "name": "stdout",
     "output_type": "stream",
     "text": [
      "Validation\n",
      "weighted avg f_score:  0.7634193207879316\n",
      "weighted avg accuracy:  0.763953663306755\n"
     ]
    }
   ],
   "source": [
    "print(\"Validation\")\n",
    "f_score = 0\n",
    "accuracy = 0\n",
    "total = len(x_validation)\n",
    "for result in results_validation:\n",
    "    f_score += result['weighted avg']['f1-score'] * (result['weighted avg']['support'] / total)\n",
    "    accuracy += result['accuracy'] * (result['weighted avg']['support'] / total)\n",
    "\n",
    "print('weighted avg f_score: ', f_score)\n",
    "print('weighted avg accuracy: ', accuracy)"
   ]
  },
  {
   "cell_type": "code",
   "execution_count": 36,
   "metadata": {},
   "outputs": [
    {
     "name": "stdout",
     "output_type": "stream",
     "text": [
      "Test\n",
      "weighted avg f_score:  0.765380433404814\n",
      "weighted avg accuracy:  0.7655554218317489\n"
     ]
    }
   ],
   "source": [
    "print(\"Test\")\n",
    "f_score = 0\n",
    "accuracy = 0\n",
    "total = len(x_test)\n",
    "for result in results_test:\n",
    "    f_score += result['weighted avg']['f1-score'] * (result['weighted avg']['support'] / total)\n",
    "    accuracy += result['accuracy'] * (result['weighted avg']['support'] / total)\n",
    "\n",
    "print('weighted avg f_score: ', f_score)\n",
    "print('weighted avg accuracy: ', accuracy)"
   ]
  },
  {
   "cell_type": "code",
   "execution_count": 37,
   "metadata": {},
   "outputs": [
    {
     "data": {
      "image/png": "[encoded data removed]",
      "text/plain": [
       "<Figure size 1080x1080 with 1 Axes>"
      ]
     },
     "metadata": {
      "needs_background": "light"
     },
     "output_type": "display_data"
    }
   ],
   "source": [
    "feature_importances = np.array([[models[i].feature_importances_] for i in range(size_x*size_y)])\n",
    "\n",
    "feat_importances = pd.Series(feature_importances.sum(axis=0).ravel(), index=features)\n",
    "plt.figure(figsize=(15, 15))\n",
    "f = feat_importances.nlargest(20)\n",
    "f.plot(kind='barh')\n",
    "plt.show()"
   ]
  },
  {
   "cell_type": "code",
   "execution_count": null,
   "metadata": {},
   "outputs": [],
   "source": []
  }
 ],
 "metadata": {
  "kernelspec": {
   "display_name": "Python 3",
   "language": "python",
   "name": "python3"
  },
  "language_info": {
   "codemirror_mode": {
    "name": "ipython",
    "version": 3
   },
   "file_extension": ".py",
   "mimetype": "text/x-python",
   "name": "python",
   "nbconvert_exporter": "python",
   "pygments_lexer": "ipython3",
   "version": "3.7.9"
  }
 },
 "nbformat": 4,
 "nbformat_minor": 4
}
