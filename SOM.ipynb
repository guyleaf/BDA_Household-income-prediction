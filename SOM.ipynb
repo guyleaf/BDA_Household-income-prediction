{
 "cells": [
  {
   "cell_type": "code",
   "execution_count": 1,
   "metadata": {},
   "outputs": [],
   "source": [
    "from minisom import MiniSom\n",
    "import numpy as np\n",
    "import pandas as pd\n",
    "import matplotlib.pyplot as plt"
   ]
  },
  {
   "cell_type": "code",
   "execution_count": 2,
   "metadata": {},
   "outputs": [],
   "source": [
    "train = pd.read_csv('data/etrain.csv')\n",
    "validation = pd.read_csv('data/evalidation.csv')\n",
    "test = pd.read_csv('data/etest.csv')\n",
    "features = np.load('selected_features.npy', allow_pickle=True)"
   ]
  },
  {
   "cell_type": "code",
   "execution_count": 3,
   "metadata": {},
   "outputs": [],
   "source": [
    "def classify(som, data, x_train, y_train):\n",
    "    \"\"\"Classifies each sample in data in one of the classes definited\n",
    "    using the method labels_map.\n",
    "    Returns a list of the same length of data where the i-th element\n",
    "    is the class assigned to data[i].\n",
    "    \"\"\"\n",
    "    winmap = som.labels_map(x_train, y_train)\n",
    "    default_class = np.sum(list(winmap.values())).most_common()[0][0]\n",
    "    result = []\n",
    "    for d in data:\n",
    "        win_position = som.winner(d)\n",
    "        if win_position in winmap:\n",
    "            result.append(winmap[win_position].most_common()[0][0])\n",
    "        else:\n",
    "            result.append(default_class)\n",
    "    return result"
   ]
  },
  {
   "cell_type": "code",
   "execution_count": 4,
   "metadata": {},
   "outputs": [],
   "source": [
    "features = train.drop('target', axis=1).columns"
   ]
  },
  {
   "cell_type": "code",
   "execution_count": 5,
   "metadata": {},
   "outputs": [
    {
     "name": "stdout",
     "output_type": "stream",
     "text": [
      " [ 500 / 500 ] 100% - 0:00:00 left \n",
      " quantization error: 2.56559555293454\n"
     ]
    }
   ],
   "source": [
    "from sklearn.metrics import classification_report\n",
    "\n",
    "x_train = train[features].values\n",
    "y_train = train['target'].values\n",
    "x_validation = validation[features].values\n",
    "y_validation = validation['target'].values\n",
    "x_test = test[features].values\n",
    "y_test = test['target'].values\n",
    "\n",
    "size_x = 2\n",
    "size_y = 2\n",
    "som = MiniSom(size_x, size_y, len(features), sigma=1, learning_rate=1.2, \n",
    "              neighborhood_function='triangle', random_seed=10)\n",
    "som.random_weights_init(x_train)\n",
    "som.train_random(x_train, 500, verbose=True)"
   ]
  },
  {
   "cell_type": "code",
   "execution_count": 6,
   "metadata": {},
   "outputs": [
    {
     "data": {
      "text/plain": [
       "0.0"
      ]
     },
     "execution_count": 6,
     "metadata": {},
     "output_type": "execute_result"
    }
   ],
   "source": [
    "som.topographic_error(x_train)"
   ]
  },
  {
   "cell_type": "code",
   "execution_count": 7,
   "metadata": {},
   "outputs": [
    {
     "name": "stdout",
     "output_type": "stream",
     "text": [
      "[23:21:52] WARNING: C:/Users/Administrator/workspace/xgboost-win64_release_1.3.0/src/learner.cc:1061: Starting in XGBoost 1.3.0, the default evaluation metric used with the objective 'multi:softprob' was changed from 'merror' to 'mlogloss'. Explicitly set eval_metric if you'd like to restore the old behavior.\n",
      "[23:21:58] WARNING: C:/Users/Administrator/workspace/xgboost-win64_release_1.3.0/src/learner.cc:1061: Starting in XGBoost 1.3.0, the default evaluation metric used with the objective 'multi:softprob' was changed from 'merror' to 'mlogloss'. Explicitly set eval_metric if you'd like to restore the old behavior.\n",
      "[23:22:01] WARNING: C:/Users/Administrator/workspace/xgboost-win64_release_1.3.0/src/learner.cc:1061: Starting in XGBoost 1.3.0, the default evaluation metric used with the objective 'multi:softprob' was changed from 'merror' to 'mlogloss'. Explicitly set eval_metric if you'd like to restore the old behavior.\n",
      "[23:22:06] WARNING: C:/Users/Administrator/workspace/xgboost-win64_release_1.3.0/src/learner.cc:1061: Starting in XGBoost 1.3.0, the default evaluation metric used with the objective 'multi:softprob' was changed from 'merror' to 'mlogloss'. Explicitly set eval_metric if you'd like to restore the old behavior.\n",
      "              precision    recall  f1-score   support\n",
      "\n",
      "           0       0.88      0.90      0.89      1778\n",
      "           1       0.77      0.80      0.78      1837\n",
      "           2       0.81      0.81      0.81      1927\n",
      "           3       0.94      0.88      0.91      1687\n",
      "\n",
      "    accuracy                           0.85      7229\n",
      "   macro avg       0.85      0.85      0.85      7229\n",
      "weighted avg       0.85      0.85      0.85      7229\n",
      "\n",
      "              precision    recall  f1-score   support\n",
      "\n",
      "           0       0.89      0.92      0.90      1043\n",
      "           1       0.75      0.71      0.73       829\n",
      "           2       0.77      0.79      0.78      1164\n",
      "           3       0.93      0.91      0.92      1673\n",
      "\n",
      "    accuracy                           0.85      4709\n",
      "   macro avg       0.83      0.83      0.83      4709\n",
      "weighted avg       0.85      0.85      0.85      4709\n",
      "\n",
      "              precision    recall  f1-score   support\n",
      "\n",
      "           0       0.88      0.92      0.90      2759\n",
      "           1       0.77      0.81      0.79      1959\n",
      "           2       0.84      0.69      0.75       930\n",
      "           3       0.94      0.64      0.76       213\n",
      "\n",
      "    accuracy                           0.84      5861\n",
      "   macro avg       0.86      0.76      0.80      5861\n",
      "weighted avg       0.84      0.84      0.83      5861\n",
      "\n",
      "              precision    recall  f1-score   support\n",
      "\n",
      "           0       0.83      0.76      0.79      1068\n",
      "           1       0.73      0.76      0.75      1961\n",
      "           2       0.77      0.81      0.79      2667\n",
      "           3       0.93      0.89      0.91      3093\n",
      "\n",
      "    accuracy                           0.82      8789\n",
      "   macro avg       0.81      0.80      0.81      8789\n",
      "weighted avg       0.82      0.82      0.82      8789\n",
      "\n"
     ]
    }
   ],
   "source": [
    "import xgboost as xgb\n",
    "from sklearn.metrics import classification_report\n",
    "rng = np.random.RandomState(31337)\n",
    "\n",
    "models = [xgb.XGBClassifier(n_estimators=100, max_depth=6, learning_rate=0.04, objective='multi:softmax', booster='gbtree',\n",
    "                              reg_alpha=2.0, reg_lambda=2.5, gamma=0.5, min_child_weight=2.0, colsample_bytree=0.7,\n",
    "                              subsample=0.5, use_label_encoder=False, n_jobs=-1, random_state=1) for i in range(size_x*size_y)]\n",
    "\n",
    "# each neuron represents a cluster\n",
    "winner_coordinates = np.array([som.winner(x) for x in x_train]).T\n",
    "# with np.ravel_multi_index we convert the bidimensional\n",
    "# coordinates to a monodimensional index\n",
    "cluster_index = np.ravel_multi_index(winner_coordinates, (size_x, size_y))\n",
    "\n",
    "for c in np.unique(cluster_index):\n",
    "    models[c].fit(x_train[cluster_index == c], y_train[cluster_index == c], verbose=False)\n",
    "    \n",
    "# each neuron represents a cluster\n",
    "winner_coordinates = np.array([som.winner(x) for x in x_train]).T\n",
    "# with np.ravel_multi_index we convert the bidimensional\n",
    "# coordinates to a monodimensional index\n",
    "cluster_index = np.ravel_multi_index(winner_coordinates, (size_x, size_y))\n",
    "results_train = []\n",
    "for c in np.unique(cluster_index):\n",
    "    print(classification_report(y_train[cluster_index == c], models[c].predict(x_train[cluster_index == c]), zero_division=True))\n",
    "    results_train.append(classification_report(y_train[cluster_index == c], models[c].predict(x_train[cluster_index == c]), zero_division=True, output_dict=True))"
   ]
  },
  {
   "cell_type": "code",
   "execution_count": 8,
   "metadata": {},
   "outputs": [
    {
     "name": "stdout",
     "output_type": "stream",
     "text": [
      "              precision    recall  f1-score   support\n",
      "\n",
      "           0       0.83      0.84      0.83       449\n",
      "           1       0.66      0.72      0.69       458\n",
      "           2       0.69      0.69      0.69       417\n",
      "           3       0.90      0.81      0.85       407\n",
      "\n",
      "    accuracy                           0.76      1731\n",
      "   macro avg       0.77      0.76      0.77      1731\n",
      "weighted avg       0.77      0.76      0.77      1731\n",
      "\n",
      "              precision    recall  f1-score   support\n",
      "\n",
      "           0       0.85      0.90      0.87       282\n",
      "           1       0.62      0.55      0.58       216\n",
      "           2       0.60      0.61      0.61       285\n",
      "           3       0.83      0.84      0.84       392\n",
      "\n",
      "    accuracy                           0.75      1175\n",
      "   macro avg       0.73      0.73      0.72      1175\n",
      "weighted avg       0.74      0.75      0.74      1175\n",
      "\n",
      "              precision    recall  f1-score   support\n",
      "\n",
      "           0       0.85      0.88      0.86       690\n",
      "           1       0.69      0.74      0.72       517\n",
      "           2       0.69      0.54      0.61       211\n",
      "           3       0.78      0.50      0.61        62\n",
      "\n",
      "    accuracy                           0.77      1480\n",
      "   macro avg       0.75      0.67      0.70      1480\n",
      "weighted avg       0.77      0.77      0.77      1480\n",
      "\n",
      "              precision    recall  f1-score   support\n",
      "\n",
      "           0       0.73      0.73      0.73       267\n",
      "           1       0.67      0.65      0.66       518\n",
      "           2       0.70      0.75      0.72       675\n",
      "           3       0.90      0.87      0.89       801\n",
      "\n",
      "    accuracy                           0.77      2261\n",
      "   macro avg       0.75      0.75      0.75      2261\n",
      "weighted avg       0.77      0.77      0.77      2261\n",
      "\n"
     ]
    }
   ],
   "source": [
    "# each neuron represents a cluster\n",
    "winner_coordinates = np.array([som.winner(x) for x in x_validation]).T\n",
    "# with np.ravel_multi_index we convert the bidimensional\n",
    "# coordinates to a monodimensional index\n",
    "cluster_index = np.ravel_multi_index(winner_coordinates, (size_x, size_y))\n",
    "results_validation = []\n",
    "for c in np.unique(cluster_index):\n",
    "    tmp = classification_report(y_validation[cluster_index == c], models[c].predict(x_validation[cluster_index == c]), zero_division=True)\n",
    "    print(tmp)\n",
    "    results_validation.append(classification_report(y_validation[cluster_index == c], models[c].predict(x_validation[cluster_index == c]), zero_division=True, output_dict=True))"
   ]
  },
  {
   "cell_type": "code",
   "execution_count": 9,
   "metadata": {},
   "outputs": [
    {
     "name": "stdout",
     "output_type": "stream",
     "text": [
      "              precision    recall  f1-score   support\n",
      "\n",
      "           0       0.84      0.83      0.83       540\n",
      "           1       0.67      0.70      0.68       557\n",
      "           2       0.71      0.75      0.73       573\n",
      "           3       0.89      0.80      0.84       480\n",
      "\n",
      "    accuracy                           0.77      2150\n",
      "   macro avg       0.78      0.77      0.77      2150\n",
      "weighted avg       0.77      0.77      0.77      2150\n",
      "\n",
      "              precision    recall  f1-score   support\n",
      "\n",
      "           0       0.84      0.87      0.85       341\n",
      "           1       0.54      0.50      0.52       256\n",
      "           2       0.65      0.64      0.64       387\n",
      "           3       0.86      0.87      0.87       502\n",
      "\n",
      "    accuracy                           0.75      1486\n",
      "   macro avg       0.72      0.72      0.72      1486\n",
      "weighted avg       0.74      0.75      0.74      1486\n",
      "\n",
      "              precision    recall  f1-score   support\n",
      "\n",
      "           0       0.84      0.88      0.86       843\n",
      "           1       0.68      0.74      0.71       626\n",
      "           2       0.72      0.57      0.64       315\n",
      "           3       0.86      0.44      0.58        70\n",
      "\n",
      "    accuracy                           0.76      1854\n",
      "   macro avg       0.78      0.66      0.70      1854\n",
      "weighted avg       0.77      0.76      0.76      1854\n",
      "\n",
      "              precision    recall  f1-score   support\n",
      "\n",
      "           0       0.74      0.71      0.72       327\n",
      "           1       0.64      0.67      0.66       651\n",
      "           2       0.68      0.71      0.69       835\n",
      "           3       0.90      0.86      0.88      1006\n",
      "\n",
      "    accuracy                           0.75      2819\n",
      "   macro avg       0.74      0.74      0.74      2819\n",
      "weighted avg       0.76      0.75      0.76      2819\n",
      "\n"
     ]
    }
   ],
   "source": [
    "# each neuron represents a cluster\n",
    "winner_coordinates = np.array([som.winner(x) for x in x_test]).T\n",
    "# with np.ravel_multi_index we convert the bidimensional\n",
    "# coordinates to a monodimensional index\n",
    "cluster_index = np.ravel_multi_index(winner_coordinates, (size_x, size_y))\n",
    "results_test = []\n",
    "for c in np.unique(cluster_index):\n",
    "    tmp = classification_report(y_test[cluster_index == c], models[c].predict(x_test[cluster_index == c]), zero_division=True)\n",
    "    print(tmp)\n",
    "    results_test.append(classification_report(y_test[cluster_index == c], models[c].predict(x_test[cluster_index == c]), zero_division=True, output_dict=True))"
   ]
  },
  {
   "cell_type": "code",
   "execution_count": 10,
   "metadata": {},
   "outputs": [
    {
     "name": "stdout",
     "output_type": "stream",
     "text": [
      "Train\n",
      "weighted avg f_score:  0.8362633198800108\n",
      "weighted avg accuracy:  0.8362419136452535\n"
     ]
    }
   ],
   "source": [
    "print(\"Train\")\n",
    "f_score = 0\n",
    "accuracy = 0\n",
    "total = len(x_train)\n",
    "for result in results_train:\n",
    "    f_score += result['weighted avg']['f1-score'] * (result['weighted avg']['support'] / total)\n",
    "    accuracy += result['accuracy'] * (result['weighted avg']['support'] / total)\n",
    "\n",
    "print('weighted avg f_score: ', f_score)\n",
    "print('weighted avg accuracy: ', accuracy)"
   ]
  },
  {
   "cell_type": "code",
   "execution_count": 11,
   "metadata": {},
   "outputs": [
    {
     "name": "stdout",
     "output_type": "stream",
     "text": [
      "Validation\n",
      "weighted avg f_score:  0.7616251247579151\n",
      "weighted avg accuracy:  0.7622987814051453\n"
     ]
    }
   ],
   "source": [
    "print(\"Validation\")\n",
    "f_score = 0\n",
    "accuracy = 0\n",
    "total = len(x_validation)\n",
    "for result in results_validation:\n",
    "    f_score += result['weighted avg']['f1-score'] * (result['weighted avg']['support'] / total)\n",
    "    accuracy += result['accuracy'] * (result['weighted avg']['support'] / total)\n",
    "\n",
    "print('weighted avg f_score: ', f_score)\n",
    "print('weighted avg accuracy: ', accuracy)"
   ]
  },
  {
   "cell_type": "code",
   "execution_count": 12,
   "metadata": {},
   "outputs": [
    {
     "name": "stdout",
     "output_type": "stream",
     "text": [
      "Test\n",
      "weighted avg f_score:  0.7584503520165833\n",
      "weighted avg accuracy:  0.7588157419665424\n"
     ]
    }
   ],
   "source": [
    "print(\"Test\")\n",
    "f_score = 0\n",
    "accuracy = 0\n",
    "total = len(x_test)\n",
    "for result in results_test:\n",
    "    f_score += result['weighted avg']['f1-score'] * (result['weighted avg']['support'] / total)\n",
    "    accuracy += result['accuracy'] * (result['weighted avg']['support'] / total)\n",
    "\n",
    "print('weighted avg f_score: ', f_score)\n",
    "print('weighted avg accuracy: ', accuracy)"
   ]
  },
  {
   "cell_type": "code",
   "execution_count": 13,
   "metadata": {},
   "outputs": [
    {
     "data": {
      "image/png": "[encoded data removed]",
      "text/plain": [
       "<Figure size 1080x1080 with 1 Axes>"
      ]
     },
     "metadata": {
      "needs_background": "light"
     },
     "output_type": "display_data"
    }
   ],
   "source": [
    "feature_importances = np.array([[models[i].feature_importances_] for i in range(size_x*size_y)])\n",
    "\n",
    "feat_importances = pd.Series(feature_importances.sum(axis=0).ravel(), index=features)\n",
    "plt.figure(figsize=(15, 15))\n",
    "f = feat_importances.nlargest(20)\n",
    "f.plot(kind='barh')\n",
    "plt.show()"
   ]
  },
  {
   "cell_type": "code",
   "execution_count": null,
   "metadata": {},
   "outputs": [],
   "source": []
  }
 ],
 "metadata": {
  "kernelspec": {
   "display_name": "Python 3",
   "language": "python",
   "name": "python3"
  },
  "language_info": {
   "codemirror_mode": {
    "name": "ipython",
    "version": 3
   },
   "file_extension": ".py",
   "mimetype": "text/x-python",
   "name": "python",
   "nbconvert_exporter": "python",
   "pygments_lexer": "ipython3",
   "version": "3.7.9"
  }
 },
 "nbformat": 4,
 "nbformat_minor": 4
}
