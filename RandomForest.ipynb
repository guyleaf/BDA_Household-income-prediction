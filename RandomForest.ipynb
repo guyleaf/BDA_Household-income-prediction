{
 "cells": [
  {
   "cell_type": "markdown",
   "metadata": {},
   "source": [
    "# RandomForest"
   ]
  },
  {
   "cell_type": "markdown",
   "metadata": {},
   "source": [
    "### Mix"
   ]
  },
  {
   "cell_type": "code",
   "execution_count": 2,
   "metadata": {},
   "outputs": [],
   "source": [
    "from sklearn.metrics import classification_report\n",
    "from sklearn.ensemble import RandomForestClassifier\n",
    "from sklearn.model_selection import RandomizedSearchCV\n",
    "import pandas as pd\n",
    "import numpy as np\n",
    "import matplotlib.pyplot as plt\n",
    "\n",
    "train = pd.read_csv('./data/etrain.csv')\n",
    "test = pd.read_csv('./data/etest.csv')\n",
    "validation = pd.read_csv('./data/evalidation.csv')\n",
    "class_list = np.load('./class_list.npy')\n",
    "\n",
    "\n",
    "train_target = train['target']\n",
    "train = train.drop(columns = ['target'])\n",
    "\n",
    "test_target = test['target']\n",
    "test = test.drop(columns = ['target'])\n",
    "\n",
    "validation_target = validation['target']\n",
    "validation = validation.drop(columns = ['target'])\n",
    "\n",
    "selected_feature = np.load('./selected_features.npy', allow_pickle=True)\n",
    "train = train[selected_feature]\n",
    "test = test[selected_feature]\n",
    "validation =  validation[selected_feature]"
   ]
  },
  {
   "cell_type": "code",
   "execution_count": 3,
   "metadata": {},
   "outputs": [
    {
     "data": {
      "text/plain": [
       "RandomizedSearchCV(cv=5, error_score=nan,\n",
       "                   estimator=RandomForestClassifier(bootstrap=True,\n",
       "                                                    ccp_alpha=0.0,\n",
       "                                                    class_weight=None,\n",
       "                                                    criterion='gini',\n",
       "                                                    max_depth=None,\n",
       "                                                    max_features='auto',\n",
       "                                                    max_leaf_nodes=None,\n",
       "                                                    max_samples=None,\n",
       "                                                    min_impurity_decrease=0.0,\n",
       "                                                    min_impurity_split=None,\n",
       "                                                    min_samples_leaf=1,\n",
       "                                                    min_samples_split=2,\n",
       "                                                    min_weight_fraction_leaf=0.0,\n",
       "                                                    n_estimators=100,\n",
       "                                                    n_jobs=None,\n",
       "                                                    oob_score=False,\n",
       "                                                    random_state=None,\n",
       "                                                    verbose=0,\n",
       "                                                    warm_start=False),\n",
       "                   iid='deprecated', n_iter=30, n_jobs=-1,\n",
       "                   param_distributions={'max_depth': range(3, 100),\n",
       "                                        'max_features': range(1, 60),\n",
       "                                        'n_estimators': range(10, 100)},\n",
       "                   pre_dispatch='2*n_jobs', random_state=None, refit=True,\n",
       "                   return_train_score=False, scoring=None, verbose=0)"
      ]
     },
     "execution_count": 3,
     "metadata": {},
     "output_type": "execute_result"
    }
   ],
   "source": [
    "classifier = RandomForestClassifier()\n",
    "\n",
    "param_dist = {\n",
    "    'max_depth': range(3, 100),\n",
    "    'n_estimators': range(10, 100),\n",
    "    \"max_features\": range(1, 60),\n",
    "}\n",
    "\n",
    "tree_cv = RandomizedSearchCV(classifier, param_dist, cv=5, n_iter=30, n_jobs=-1)\n",
    "\n",
    "tree_cv.fit(train, train_target)"
   ]
  },
  {
   "cell_type": "code",
   "execution_count": 4,
   "metadata": {},
   "outputs": [
    {
     "name": "stdout",
     "output_type": "stream",
     "text": [
      "Tuned Random Forest Parameters: {'n_estimators': 77, 'max_features': 35, 'max_depth': 93}\n",
      "Best score is 0.7583870677285025\n"
     ]
    }
   ],
   "source": [
    "print(\"Tuned Random Forest Parameters: {}\".format(tree_cv.best_params_))\n",
    "print(\"Best score is {}\".format(tree_cv.best_score_))"
   ]
  },
  {
   "cell_type": "code",
   "execution_count": 5,
   "metadata": {},
   "outputs": [
    {
     "name": "stdout",
     "output_type": "stream",
     "text": [
      "0.7568901191479119\n",
      "0.754325259515571\n",
      "              precision    recall  f1-score   support\n",
      "\n",
      "           0       0.82      0.84      0.83      2051\n",
      "           1       0.65      0.68      0.66      2090\n",
      "           2       0.69      0.67      0.68      2110\n",
      "           3       0.88      0.85      0.86      2058\n",
      "\n",
      "    accuracy                           0.76      8309\n",
      "   macro avg       0.76      0.76      0.76      8309\n",
      "weighted avg       0.76      0.76      0.76      8309\n",
      "\n",
      "              precision    recall  f1-score   support\n",
      "\n",
      "           0       0.82      0.85      0.83      1688\n",
      "           1       0.66      0.66      0.66      1709\n",
      "           2       0.67      0.66      0.66      1588\n",
      "           3       0.88      0.84      0.86      1662\n",
      "\n",
      "    accuracy                           0.75      6647\n",
      "   macro avg       0.75      0.75      0.75      6647\n",
      "weighted avg       0.75      0.75      0.75      6647\n",
      "\n"
     ]
    }
   ],
   "source": [
    "predict_target = tree_cv.predict(test)\n",
    "validation_predict_target = tree_cv.predict(validation)\n",
    "print(tree_cv.score(test, test_target))\n",
    "print(tree_cv.score(validation, validation_target))\n",
    "print(classification_report(test_target, predict_target))\n",
    "print(classification_report(validation_target, validation_predict_target))"
   ]
  },
  {
   "cell_type": "code",
   "execution_count": 6,
   "metadata": {},
   "outputs": [
    {
     "data": {
      "image/png": "[encoded data removed]",
      "text/plain": [
       "<Figure size 1080x1080 with 1 Axes>"
      ]
     },
     "metadata": {
      "needs_background": "light"
     },
     "output_type": "display_data"
    }
   ],
   "source": [
    "feat_importances = pd.Series(tree_cv.best_estimator_.feature_importances_, index=train.columns)\n",
    "plt.figure(figsize=(15, 15))\n",
    "f = feat_importances.nlargest(20)\n",
    "f.plot(kind='barh')\n",
    "plt.show()"
   ]
  },
  {
   "cell_type": "markdown",
   "metadata": {},
   "source": [
    "### Only numeric feature"
   ]
  },
  {
   "cell_type": "code",
   "execution_count": 7,
   "metadata": {},
   "outputs": [],
   "source": [
    "train = pd.read_csv('./data/etrain.csv')\n",
    "test = pd.read_csv('./data/etest.csv')\n",
    "validation = pd.read_csv('./data/evalidation.csv')\n",
    "class_list = np.load('./class_list.npy')\n",
    "\n",
    "train_target = train['target']\n",
    "train = train.drop(columns = ['target'])\n",
    "test_target = test['target']\n",
    "test = test.drop(columns = ['target'])\n",
    "\n",
    "\n",
    "train = pd.read_csv('./data/etrain.csv')\n",
    "test = pd.read_csv('./data/etest.csv')\n",
    "validation = pd.read_csv('./data/evalidation.csv')\n",
    "numeric_feature = np.load('./numeric_features.npy')\n",
    "\n",
    "#train_target = train['target']\n",
    "#train = train.drop(columns = ['target'])\n",
    "#test_target = test['target']\n",
    "#test = test.drop(columns = ['target'])\n",
    "train = train[numeric_feature]\n",
    "test = test[numeric_feature]\n",
    "validation = validation[numeric_feature]"
   ]
  },
  {
   "cell_type": "code",
   "execution_count": 8,
   "metadata": {},
   "outputs": [
    {
     "data": {
      "text/plain": [
       "RandomizedSearchCV(cv=5, error_score=nan,\n",
       "                   estimator=RandomForestClassifier(bootstrap=True,\n",
       "                                                    ccp_alpha=0.0,\n",
       "                                                    class_weight=None,\n",
       "                                                    criterion='gini',\n",
       "                                                    max_depth=None,\n",
       "                                                    max_features='auto',\n",
       "                                                    max_leaf_nodes=None,\n",
       "                                                    max_samples=None,\n",
       "                                                    min_impurity_decrease=0.0,\n",
       "                                                    min_impurity_split=None,\n",
       "                                                    min_samples_leaf=1,\n",
       "                                                    min_samples_split=2,\n",
       "                                                    min_weight_fraction_leaf=0.0,\n",
       "                                                    n_estimators=100,\n",
       "                                                    n_jobs=None,\n",
       "                                                    oob_score=False,\n",
       "                                                    random_state=None,\n",
       "                                                    verbose=0,\n",
       "                                                    warm_start=False),\n",
       "                   iid='deprecated', n_iter=30, n_jobs=-1,\n",
       "                   param_distributions={'max_depth': range(3, 100),\n",
       "                                        'max_features': range(1, 60),\n",
       "                                        'n_estimators': range(10, 100)},\n",
       "                   pre_dispatch='2*n_jobs', random_state=None, refit=True,\n",
       "                   return_train_score=False, scoring=None, verbose=0)"
      ]
     },
     "execution_count": 8,
     "metadata": {},
     "output_type": "execute_result"
    }
   ],
   "source": [
    "classifier = RandomForestClassifier()\n",
    "\n",
    "param_dist = {\n",
    "    'max_depth': range(3, 100),\n",
    "    'n_estimators': range(10, 100),\n",
    "    \"max_features\": range(1, 60),\n",
    "}\n",
    "\n",
    "tree_cv = RandomizedSearchCV(classifier, param_dist, cv=5, n_iter=30, n_jobs=-1)\n",
    "\n",
    "tree_cv.fit(train, train_target)"
   ]
  },
  {
   "cell_type": "code",
   "execution_count": 9,
   "metadata": {},
   "outputs": [
    {
     "name": "stdout",
     "output_type": "stream",
     "text": [
      "Tuned Random Forest Parameters: {'n_estimators': 75, 'max_features': 17, 'max_depth': 30}\n",
      "Best score is 0.7575972334793921\n"
     ]
    }
   ],
   "source": [
    "print(\"Tuned Random Forest Parameters: {}\".format(tree_cv.best_params_))\n",
    "print(\"Best score is {}\".format(tree_cv.best_score_))"
   ]
  },
  {
   "cell_type": "code",
   "execution_count": 10,
   "metadata": {},
   "outputs": [
    {
     "name": "stdout",
     "output_type": "stream",
     "text": [
      "0.7552051991816103\n",
      "              precision    recall  f1-score   support\n",
      "\n",
      "           0       0.82      0.83      0.83      2051\n",
      "           1       0.65      0.68      0.66      2090\n",
      "           2       0.69      0.67      0.68      2110\n",
      "           3       0.88      0.84      0.86      2058\n",
      "\n",
      "    accuracy                           0.76      8309\n",
      "   macro avg       0.76      0.76      0.76      8309\n",
      "weighted avg       0.76      0.76      0.76      8309\n",
      "\n"
     ]
    }
   ],
   "source": [
    "predict_target = tree_cv.predict(test)\n",
    "print(tree_cv.score(test, test_target))\n",
    "print(classification_report(test_target, predict_target))"
   ]
  },
  {
   "cell_type": "markdown",
   "metadata": {},
   "source": [
    "### Only Categorical"
   ]
  },
  {
   "cell_type": "code",
   "execution_count": 11,
   "metadata": {},
   "outputs": [],
   "source": [
    "train = pd.read_csv('./data/etrain.csv')\n",
    "test = pd.read_csv('./data/etest.csv')\n",
    "validation = pd.read_csv('./data/evalidation.csv')\n",
    "numeric_feature = np.load('./numeric_features.npy')\n",
    "\n",
    "train_target = train['target']\n",
    "train = train.drop(columns = ['target'])\n",
    "test_target = test['target']\n",
    "test = test.drop(columns = ['target'])\n",
    "\n",
    "train = train.drop(columns=numeric_feature)\n",
    "test = test.drop(columns=numeric_feature)\n",
    "validation = validation.drop(columns=numeric_feature)"
   ]
  },
  {
   "cell_type": "code",
   "execution_count": 12,
   "metadata": {},
   "outputs": [
    {
     "data": {
      "text/plain": [
       "RandomizedSearchCV(cv=5, error_score=nan,\n",
       "                   estimator=RandomForestClassifier(bootstrap=True,\n",
       "                                                    ccp_alpha=0.0,\n",
       "                                                    class_weight=None,\n",
       "                                                    criterion='gini',\n",
       "                                                    max_depth=None,\n",
       "                                                    max_features='auto',\n",
       "                                                    max_leaf_nodes=None,\n",
       "                                                    max_samples=None,\n",
       "                                                    min_impurity_decrease=0.0,\n",
       "                                                    min_impurity_split=None,\n",
       "                                                    min_samples_leaf=1,\n",
       "                                                    min_samples_split=2,\n",
       "                                                    min_weight_fraction_leaf=0.0,\n",
       "                                                    n_estimators=100,\n",
       "                                                    n_jobs=None,\n",
       "                                                    oob_score=False,\n",
       "                                                    random_state=None,\n",
       "                                                    verbose=0,\n",
       "                                                    warm_start=False),\n",
       "                   iid='deprecated', n_iter=30, n_jobs=-1,\n",
       "                   param_distributions={'max_depth': range(3, 100),\n",
       "                                        'max_features': range(1, 60),\n",
       "                                        'n_estimators': range(10, 100)},\n",
       "                   pre_dispatch='2*n_jobs', random_state=None, refit=True,\n",
       "                   return_train_score=False, scoring=None, verbose=0)"
      ]
     },
     "execution_count": 12,
     "metadata": {},
     "output_type": "execute_result"
    }
   ],
   "source": [
    "classifier = RandomForestClassifier()\n",
    "\n",
    "param_dist = {\n",
    "    'max_depth': range(3, 100),\n",
    "    'n_estimators': range(10, 100),\n",
    "    \"max_features\": range(1, 60),\n",
    "}\n",
    "\n",
    "tree_cv = RandomizedSearchCV(classifier, param_dist, cv=5, n_iter=30, n_jobs=-1)\n",
    "\n",
    "tree_cv.fit(train, train_target)"
   ]
  },
  {
   "cell_type": "code",
   "execution_count": 13,
   "metadata": {},
   "outputs": [
    {
     "name": "stdout",
     "output_type": "stream",
     "text": [
      "Tuned Random Forest Parameters: {'n_estimators': 88, 'max_features': 7, 'max_depth': 14}\n",
      "Best score is 0.4868737676301783\n"
     ]
    }
   ],
   "source": [
    "print(\"Tuned Random Forest Parameters: {}\".format(tree_cv.best_params_))\n",
    "print(\"Best score is {}\".format(tree_cv.best_score_))"
   ]
  },
  {
   "cell_type": "code",
   "execution_count": 14,
   "metadata": {},
   "outputs": [
    {
     "name": "stdout",
     "output_type": "stream",
     "text": [
      "0.4836923817547238\n",
      "              precision    recall  f1-score   support\n",
      "\n",
      "           0       0.54      0.65      0.59      2051\n",
      "           1       0.38      0.24      0.29      2090\n",
      "           2       0.38      0.28      0.32      2110\n",
      "           3       0.53      0.78      0.63      2058\n",
      "\n",
      "    accuracy                           0.48      8309\n",
      "   macro avg       0.46      0.49      0.46      8309\n",
      "weighted avg       0.46      0.48      0.46      8309\n",
      "\n"
     ]
    }
   ],
   "source": [
    "predict_target = tree_cv.predict(test)\n",
    "print(tree_cv.score(test, test_target))\n",
    "print(classification_report(test_target, predict_target))"
   ]
  },
  {
   "cell_type": "markdown",
   "metadata": {},
   "source": [
    "### aaaaaaaaaaa"
   ]
  },
  {
   "cell_type": "code",
   "execution_count": null,
   "metadata": {},
   "outputs": [],
   "source": [
    "forest = RandomForestClassifier(n_jobs=-1)\n",
    "forest.fit(train, train_target)"
   ]
  },
  {
   "cell_type": "code",
   "execution_count": null,
   "metadata": {},
   "outputs": [],
   "source": [
    "predict_target = forest.predict(test)\n",
    "print(forest.score(test, test_target))\n",
    "print(classification_report(test_target, predict_target))"
   ]
  }
 ],
 "metadata": {
  "kernelspec": {
   "display_name": "Python 3",
   "language": "python",
   "name": "python3"
  },
  "language_info": {
   "codemirror_mode": {
    "name": "ipython",
    "version": 3
   },
   "file_extension": ".py",
   "mimetype": "text/x-python",
   "name": "python",
   "nbconvert_exporter": "python",
   "pygments_lexer": "ipython3",
   "version": "3.7.6"
  }
 },
 "nbformat": 4,
 "nbformat_minor": 4
}
