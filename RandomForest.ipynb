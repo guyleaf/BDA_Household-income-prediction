{
 "cells": [
  {
   "cell_type": "markdown",
   "metadata": {},
   "source": [
    "# RandomForest"
   ]
  },
  {
   "cell_type": "markdown",
   "metadata": {},
   "source": [
    "### Mix"
   ]
  },
  {
   "cell_type": "code",
   "execution_count": 15,
   "metadata": {},
   "outputs": [],
   "source": [
    "from sklearn.metrics import classification_report\n",
    "from sklearn.ensemble import RandomForestClassifier\n",
    "from sklearn.model_selection import RandomizedSearchCV\n",
    "import pandas as pd\n",
    "import numpy as np\n",
    "\n",
    "train = pd.read_csv('./data/etrain.csv')\n",
    "test = pd.read_csv('./data/etest.csv')\n",
    "validation = pd.read_csv('./data/evalidation.csv')\n",
    "class_list = np.load('./class_list.npy')\n",
    "\n",
    "train_target = train['target']\n",
    "train = train.drop(columns = ['target'])\n",
    "test_target = test['target']\n",
    "test = test.drop(columns = ['target'])"
   ]
  },
  {
   "cell_type": "code",
   "execution_count": 3,
   "metadata": {},
   "outputs": [
    {
     "data": {
      "text/plain": [
       "RandomizedSearchCV(cv=5, error_score=nan,\n",
       "                   estimator=RandomForestClassifier(bootstrap=True,\n",
       "                                                    ccp_alpha=0.0,\n",
       "                                                    class_weight=None,\n",
       "                                                    criterion='gini',\n",
       "                                                    max_depth=None,\n",
       "                                                    max_features='auto',\n",
       "                                                    max_leaf_nodes=None,\n",
       "                                                    max_samples=None,\n",
       "                                                    min_impurity_decrease=0.0,\n",
       "                                                    min_impurity_split=None,\n",
       "                                                    min_samples_leaf=1,\n",
       "                                                    min_samples_split=2,\n",
       "                                                    min_weight_fraction_leaf=0.0,\n",
       "                                                    n_estimators=100,\n",
       "                                                    n_jobs=None,\n",
       "                                                    oob_score=False,\n",
       "                                                    random_state=None,\n",
       "                                                    verbose=0,\n",
       "                                                    warm_start=False),\n",
       "                   iid='deprecated', n_iter=30, n_jobs=-1,\n",
       "                   param_distributions={'max_depth': range(3, 100),\n",
       "                                        'max_features': range(1, 60),\n",
       "                                        'n_estimators': range(10, 100)},\n",
       "                   pre_dispatch='2*n_jobs', random_state=None, refit=True,\n",
       "                   return_train_score=False, scoring=None, verbose=0)"
      ]
     },
     "execution_count": 3,
     "metadata": {},
     "output_type": "execute_result"
    }
   ],
   "source": [
    "classifier = RandomForestClassifier()\n",
    "\n",
    "param_dist = {\n",
    "    'max_depth': range(3, 100),\n",
    "    'n_estimators': range(10, 100),\n",
    "    \"max_features\": range(1, 60),\n",
    "}\n",
    "\n",
    "tree_cv = RandomizedSearchCV(classifier, param_dist, cv=5, n_iter=30, n_jobs=-1)\n",
    "\n",
    "tree_cv.fit(train, train_target)"
   ]
  },
  {
   "cell_type": "code",
   "execution_count": 5,
   "metadata": {},
   "outputs": [
    {
     "name": "stdout",
     "output_type": "stream",
     "text": [
      "Tuned Decision Tree Parameters: {'n_estimators': 95, 'max_features': 49, 'max_depth': 67}\n",
      "Best score is 0.7593649425943861\n"
     ]
    }
   ],
   "source": [
    "print(\"Tuned Random Forest Parameters: {}\".format(tree_cv.best_params_))\n",
    "print(\"Best score is {}\".format(tree_cv.best_score_))"
   ]
  },
  {
   "cell_type": "code",
   "execution_count": 7,
   "metadata": {},
   "outputs": [
    {
     "name": "stdout",
     "output_type": "stream",
     "text": [
      "0.7554459020339391\n",
      "              precision    recall  f1-score   support\n",
      "\n",
      "           0       0.82      0.83      0.82      2051\n",
      "           1       0.64      0.68      0.66      2090\n",
      "           2       0.69      0.68      0.68      2110\n",
      "           3       0.88      0.84      0.86      2058\n",
      "\n",
      "    accuracy                           0.76      8309\n",
      "   macro avg       0.76      0.76      0.76      8309\n",
      "weighted avg       0.76      0.76      0.76      8309\n",
      "\n"
     ]
    }
   ],
   "source": [
    "predict_target = tree_cv.predict(test)\n",
    "print(tree_cv.score(test, test_target))\n",
    "print(classification_report(test_target, predict_target))"
   ]
  },
  {
   "cell_type": "markdown",
   "metadata": {},
   "source": [
    "### Only numeric feature"
   ]
  },
  {
   "cell_type": "code",
   "execution_count": 8,
   "metadata": {},
   "outputs": [],
   "source": [
    "train = pd.read_csv('./data/etrain.csv')\n",
    "test = pd.read_csv('./data/etest.csv')\n",
    "validation = pd.read_csv('./data/evalidation.csv')\n",
    "class_list = np.load('./class_list.npy')\n",
    "\n",
    "train_target = train['target']\n",
    "train = train.drop(columns = ['target'])\n",
    "test_target = test['target']\n",
    "test = test.drop(columns = ['target'])\n",
    "\n",
    "\n",
    "train = pd.read_csv('./data/etrain.csv')\n",
    "test = pd.read_csv('./data/etest.csv')\n",
    "validation = pd.read_csv('./data/evalidation.csv')\n",
    "numeric_feature = np.load('./numeric_features.npy')\n",
    "\n",
    "#train_target = train['target']\n",
    "#train = train.drop(columns = ['target'])\n",
    "#test_target = test['target']\n",
    "#test = test.drop(columns = ['target'])\n",
    "train = train[numeric_feature]\n",
    "test = test[numeric_feature]\n",
    "validation = validation[numeric_feature]"
   ]
  },
  {
   "cell_type": "code",
   "execution_count": 9,
   "metadata": {},
   "outputs": [
    {
     "data": {
      "text/plain": [
       "RandomizedSearchCV(cv=5, error_score=nan,\n",
       "                   estimator=RandomForestClassifier(bootstrap=True,\n",
       "                                                    ccp_alpha=0.0,\n",
       "                                                    class_weight=None,\n",
       "                                                    criterion='gini',\n",
       "                                                    max_depth=None,\n",
       "                                                    max_features='auto',\n",
       "                                                    max_leaf_nodes=None,\n",
       "                                                    max_samples=None,\n",
       "                                                    min_impurity_decrease=0.0,\n",
       "                                                    min_impurity_split=None,\n",
       "                                                    min_samples_leaf=1,\n",
       "                                                    min_samples_split=2,\n",
       "                                                    min_weight_fraction_leaf=0.0,\n",
       "                                                    n_estimators=100,\n",
       "                                                    n_jobs=None,\n",
       "                                                    oob_score=False,\n",
       "                                                    random_state=None,\n",
       "                                                    verbose=0,\n",
       "                                                    warm_start=False),\n",
       "                   iid='deprecated', n_iter=30, n_jobs=-1,\n",
       "                   param_distributions={'max_depth': range(3, 100),\n",
       "                                        'max_features': range(1, 60),\n",
       "                                        'n_estimators': range(10, 100)},\n",
       "                   pre_dispatch='2*n_jobs', random_state=None, refit=True,\n",
       "                   return_train_score=False, scoring=None, verbose=0)"
      ]
     },
     "execution_count": 9,
     "metadata": {},
     "output_type": "execute_result"
    }
   ],
   "source": [
    "classifier = RandomForestClassifier()\n",
    "\n",
    "param_dist = {\n",
    "    'max_depth': range(3, 100),\n",
    "    'n_estimators': range(10, 100),\n",
    "    \"max_features\": range(1, 60),\n",
    "}\n",
    "\n",
    "tree_cv = RandomizedSearchCV(classifier, param_dist, cv=5, n_iter=30, n_jobs=-1)\n",
    "\n",
    "tree_cv.fit(train, train_target)"
   ]
  },
  {
   "cell_type": "code",
   "execution_count": 10,
   "metadata": {},
   "outputs": [
    {
     "name": "stdout",
     "output_type": "stream",
     "text": [
      "Tuned Random Forest Parameters: {'n_estimators': 79, 'max_features': 22, 'max_depth': 94}\n",
      "Best score is 0.759252238468463\n"
     ]
    }
   ],
   "source": [
    "print(\"Tuned Random Forest Parameters: {}\".format(tree_cv.best_params_))\n",
    "print(\"Best score is {}\".format(tree_cv.best_score_))"
   ]
  },
  {
   "cell_type": "code",
   "execution_count": 11,
   "metadata": {},
   "outputs": [
    {
     "name": "stdout",
     "output_type": "stream",
     "text": [
      "0.7566494162955831\n",
      "              precision    recall  f1-score   support\n",
      "\n",
      "           0       0.82      0.84      0.83      2051\n",
      "           1       0.64      0.68      0.66      2090\n",
      "           2       0.69      0.67      0.68      2110\n",
      "           3       0.88      0.84      0.86      2058\n",
      "\n",
      "    accuracy                           0.76      8309\n",
      "   macro avg       0.76      0.76      0.76      8309\n",
      "weighted avg       0.76      0.76      0.76      8309\n",
      "\n"
     ]
    }
   ],
   "source": [
    "predict_target = tree_cv.predict(test)\n",
    "print(tree_cv.score(test, test_target))\n",
    "print(classification_report(test_target, predict_target))"
   ]
  },
  {
   "cell_type": "markdown",
   "metadata": {},
   "source": [
    "### Only Categorical"
   ]
  },
  {
   "cell_type": "code",
   "execution_count": 3,
   "metadata": {},
   "outputs": [],
   "source": [
    "train = pd.read_csv('./data/etrain.csv')\n",
    "test = pd.read_csv('./data/etest.csv')\n",
    "validation = pd.read_csv('./data/evalidation.csv')\n",
    "numeric_feature = np.load('./numeric_features.npy')\n",
    "\n",
    "train_target = train['target']\n",
    "train = train.drop(columns = ['target'])\n",
    "test_target = test['target']\n",
    "test = test.drop(columns = ['target'])\n",
    "\n",
    "train = train.drop(columns=numeric_feature)\n",
    "test = test.drop(columns=numeric_feature)\n",
    "validation = validation.drop(columns=numeric_feature)"
   ]
  },
  {
   "cell_type": "code",
   "execution_count": 13,
   "metadata": {},
   "outputs": [
    {
     "data": {
      "text/plain": [
       "RandomizedSearchCV(cv=5, error_score=nan,\n",
       "                   estimator=RandomForestClassifier(bootstrap=True,\n",
       "                                                    ccp_alpha=0.0,\n",
       "                                                    class_weight=None,\n",
       "                                                    criterion='gini',\n",
       "                                                    max_depth=None,\n",
       "                                                    max_features='auto',\n",
       "                                                    max_leaf_nodes=None,\n",
       "                                                    max_samples=None,\n",
       "                                                    min_impurity_decrease=0.0,\n",
       "                                                    min_impurity_split=None,\n",
       "                                                    min_samples_leaf=1,\n",
       "                                                    min_samples_split=2,\n",
       "                                                    min_weight_fraction_leaf=0.0,\n",
       "                                                    n_estimators=100,\n",
       "                                                    n_jobs=None,\n",
       "                                                    oob_score=False,\n",
       "                                                    random_state=None,\n",
       "                                                    verbose=0,\n",
       "                                                    warm_start=False),\n",
       "                   iid='deprecated', n_iter=30, n_jobs=-1,\n",
       "                   param_distributions={'max_depth': range(3, 100),\n",
       "                                        'max_features': range(1, 60),\n",
       "                                        'n_estimators': range(10, 100)},\n",
       "                   pre_dispatch='2*n_jobs', random_state=None, refit=True,\n",
       "                   return_train_score=False, scoring=None, verbose=0)"
      ]
     },
     "execution_count": 13,
     "metadata": {},
     "output_type": "execute_result"
    }
   ],
   "source": [
    "classifier = RandomForestClassifier()\n",
    "\n",
    "param_dist = {\n",
    "    'max_depth': range(3, 100),\n",
    "    'n_estimators': range(10, 100),\n",
    "    \"max_features\": range(1, 60),\n",
    "}\n",
    "\n",
    "tree_cv = RandomizedSearchCV(classifier, param_dist, cv=5, n_iter=30, n_jobs=-1)\n",
    "\n",
    "tree_cv.fit(train, train_target)"
   ]
  },
  {
   "cell_type": "code",
   "execution_count": 14,
   "metadata": {},
   "outputs": [
    {
     "name": "stdout",
     "output_type": "stream",
     "text": [
      "Tuned Random Forest Parameters: {'n_estimators': 74, 'max_features': 11, 'max_depth': 18}\n",
      "Best score is 0.4869115172172281\n"
     ]
    }
   ],
   "source": [
    "print(\"Tuned Random Forest Parameters: {}\".format(tree_cv.best_params_))\n",
    "print(\"Best score is {}\".format(tree_cv.best_score_))"
   ]
  },
  {
   "cell_type": "code",
   "execution_count": 15,
   "metadata": {},
   "outputs": [
    {
     "name": "stdout",
     "output_type": "stream",
     "text": [
      "0.4797207846912986\n",
      "              precision    recall  f1-score   support\n",
      "\n",
      "           0       0.54      0.62      0.58      2051\n",
      "           1       0.38      0.29      0.33      2090\n",
      "           2       0.37      0.31      0.34      2110\n",
      "           3       0.55      0.72      0.63      2058\n",
      "\n",
      "    accuracy                           0.48      8309\n",
      "   macro avg       0.46      0.48      0.47      8309\n",
      "weighted avg       0.46      0.48      0.46      8309\n",
      "\n"
     ]
    }
   ],
   "source": [
    "predict_target = tree_cv.predict(test)\n",
    "print(tree_cv.score(test, test_target))\n",
    "print(classification_report(test_target, predict_target))"
   ]
  },
  {
   "cell_type": "markdown",
   "metadata": {},
   "source": [
    "### aaaaaaaaaaa"
   ]
  },
  {
   "cell_type": "code",
   "execution_count": 16,
   "metadata": {},
   "outputs": [
    {
     "data": {
      "text/plain": [
       "RandomForestClassifier(bootstrap=True, ccp_alpha=0.0, class_weight=None,\n",
       "                       criterion='gini', max_depth=None, max_features='auto',\n",
       "                       max_leaf_nodes=None, max_samples=None,\n",
       "                       min_impurity_decrease=0.0, min_impurity_split=None,\n",
       "                       min_samples_leaf=1, min_samples_split=2,\n",
       "                       min_weight_fraction_leaf=0.0, n_estimators=100,\n",
       "                       n_jobs=-1, oob_score=False, random_state=None, verbose=0,\n",
       "                       warm_start=False)"
      ]
     },
     "execution_count": 16,
     "metadata": {},
     "output_type": "execute_result"
    }
   ],
   "source": [
    "forest = RandomForestClassifier(n_jobs=-1)\n",
    "forest.fit(train, train_target)"
   ]
  },
  {
   "cell_type": "code",
   "execution_count": 17,
   "metadata": {},
   "outputs": [
    {
     "name": "stdout",
     "output_type": "stream",
     "text": [
      "0.7469009507762667\n",
      "              precision    recall  f1-score   support\n",
      "\n",
      "           0       0.82      0.82      0.82      2051\n",
      "           1       0.63      0.68      0.65      2090\n",
      "           2       0.68      0.65      0.67      2110\n",
      "           3       0.88      0.83      0.85      2058\n",
      "\n",
      "    accuracy                           0.75      8309\n",
      "   macro avg       0.75      0.75      0.75      8309\n",
      "weighted avg       0.75      0.75      0.75      8309\n",
      "\n"
     ]
    }
   ],
   "source": [
    "predict_target = forest.predict(test)\n",
    "print(forest.score(test, test_target))\n",
    "print(classification_report(test_target, predict_target))"
   ]
  }
 ],
 "metadata": {
  "kernelspec": {
   "display_name": "Python 3",
   "language": "python",
   "name": "python3"
  },
  "language_info": {
   "codemirror_mode": {
    "name": "ipython",
    "version": 3
   },
   "file_extension": ".py",
   "mimetype": "text/x-python",
   "name": "python",
   "nbconvert_exporter": "python",
   "pygments_lexer": "ipython3",
   "version": "3.7.6"
  }
 },
 "nbformat": 4,
 "nbformat_minor": 4
}
