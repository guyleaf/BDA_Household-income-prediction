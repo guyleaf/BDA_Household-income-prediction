{
 "cells": [
  {
   "cell_type": "markdown",
   "metadata": {},
   "source": [
    "# KNN"
   ]
  },
  {
   "cell_type": "code",
   "execution_count": 1,
   "metadata": {},
   "outputs": [],
   "source": [
    "import numpy as np\n",
    "import matplotlib.pyplot as plt\n",
    "import pandas as pd\n",
    "from sklearn.neighbors import KNeighborsClassifier\n",
    "from sklearn.metrics import classification_report, confusion_matrix\n",
    "from matplotlib.colors import ListedColormap"
   ]
  },
  {
   "cell_type": "code",
   "execution_count": 2,
   "metadata": {},
   "outputs": [],
   "source": [
    "etest_data = pd.read_csv(\"data/etest.csv\")\n",
    "etrain_data = pd.read_csv(\"data/etrain.csv\")\n",
    "eval_data = pd.read_csv(\"data/evalidation.csv\")\n",
    "test_data = pd.read_csv(\"data/test.csv\")\n",
    "train_data = pd.read_csv(\"data/train.csv\")\n",
    "val_data = pd.read_csv(\"data/validation.csv\")\n",
    "numeric_features = np.load('numeric_features.npy')"
   ]
  },
  {
   "cell_type": "code",
   "execution_count": 18,
   "metadata": {},
   "outputs": [],
   "source": [
    "not_num=[]\n",
    "for i in etest_data.columns:\n",
    "    if(i not in numeric_features and i != 'target'):\n",
    "        not_num.append(i)"
   ]
  },
  {
   "cell_type": "code",
   "execution_count": 15,
   "metadata": {},
   "outputs": [
    {
     "name": "stdout",
     "output_type": "stream",
     "text": [
      "44\n",
      "134\n"
     ]
    }
   ],
   "source": [
    "print(len(not_num))"
   ]
  },
  {
   "cell_type": "code",
   "execution_count": 3,
   "metadata": {},
   "outputs": [
    {
     "name": "stdout",
     "output_type": "stream",
     "text": [
      "(26588, 178)\n",
      "(6647, 178)\n"
     ]
    }
   ],
   "source": [
    "print(etrain_data.shape)\n",
    "print(eval_data.shape)"
   ]
  },
  {
   "cell_type": "markdown",
   "metadata": {},
   "source": [
    "Mix feature"
   ]
  },
  {
   "cell_type": "code",
   "execution_count": 4,
   "metadata": {},
   "outputs": [
    {
     "name": "stderr",
     "output_type": "stream",
     "text": [
      "C:\\Users\\Anderson\\Anaconda3\\lib\\site-packages\\ipykernel_launcher.py:7: DataConversionWarning: A column-vector y was passed when a 1d array was expected. Please change the shape of y to (n_samples, ), for example using ravel().\n",
      "  import sys\n"
     ]
    },
    {
     "name": "stdout",
     "output_type": "stream",
     "text": [
      "[[1322  482  196   51]\n",
      " [ 750  775  448  117]\n",
      " [ 395  577  775  363]\n",
      " [  96  201  617 1144]]\n",
      "              precision    recall  f1-score   support\n",
      "\n",
      "           0       0.52      0.64      0.57      2051\n",
      "           1       0.38      0.37      0.38      2090\n",
      "           2       0.38      0.37      0.37      2110\n",
      "           3       0.68      0.56      0.61      2058\n",
      "\n",
      "    accuracy                           0.48      8309\n",
      "   macro avg       0.49      0.48      0.48      8309\n",
      "weighted avg       0.49      0.48      0.48      8309\n",
      "\n"
     ]
    }
   ],
   "source": [
    "etest_data_t = etest_data.drop(['target'],axis = 1)\n",
    "etrain_data_t = etrain_data.drop(['target'],axis = 1)\n",
    "eval_data_t = eval_data.drop(['target'],axis = 1)\n",
    "etrain_data_target = etrain_data[[\"target\"]]\n",
    "etest_data_target = etest_data[[\"target\"]]\n",
    "classifier = KNeighborsClassifier(n_neighbors=4)\n",
    "classifier.fit(etrain_data_t, etrain_data_target)\n",
    "y_pred = classifier.predict(etest_data_t)\n",
    "print(confusion_matrix(etest_data_target, y_pred))\n",
    "print(classification_report(etest_data_target, y_pred))"
   ]
  },
  {
   "cell_type": "markdown",
   "metadata": {},
   "source": [
    "Only use numeric features"
   ]
  },
  {
   "cell_type": "code",
   "execution_count": 5,
   "metadata": {},
   "outputs": [
    {
     "name": "stderr",
     "output_type": "stream",
     "text": [
      "C:\\Users\\Anderson\\Anaconda3\\lib\\site-packages\\ipykernel_launcher.py:7: DataConversionWarning: A column-vector y was passed when a 1d array was expected. Please change the shape of y to (n_samples, ), for example using ravel().\n",
      "  import sys\n"
     ]
    },
    {
     "name": "stdout",
     "output_type": "stream",
     "text": [
      "[[1596  374   74    7]\n",
      " [ 866  845  346   33]\n",
      " [ 322  703  888  197]\n",
      " [  39  164  641 1214]]\n",
      "              precision    recall  f1-score   support\n",
      "\n",
      "           0       0.57      0.78      0.65      2051\n",
      "           1       0.41      0.40      0.40      2090\n",
      "           2       0.46      0.42      0.44      2110\n",
      "           3       0.84      0.59      0.69      2058\n",
      "\n",
      "    accuracy                           0.55      8309\n",
      "   macro avg       0.57      0.55      0.55      8309\n",
      "weighted avg       0.56      0.55      0.55      8309\n",
      "\n"
     ]
    }
   ],
   "source": [
    "etest_data_t = etest_data.drop(['target'],axis = 1).loc[:,numeric_features]\n",
    "etrain_data_t = etrain_data.drop(['target'],axis = 1).loc[:,numeric_features]\n",
    "eval_data_t = eval_data.drop(['target'],axis = 1).loc[:,numeric_features]\n",
    "etrain_data_target = etrain_data[[\"target\"]]\n",
    "etest_data_target = etest_data[[\"target\"]]\n",
    "classifier = KNeighborsClassifier(n_neighbors=4)\n",
    "classifier.fit(etrain_data_t, etrain_data_target)\n",
    "y_pred = classifier.predict(etest_data_t)\n",
    "print(confusion_matrix(etest_data_target, y_pred))\n",
    "print(classification_report(etest_data_target, y_pred))"
   ]
  },
  {
   "cell_type": "markdown",
   "metadata": {},
   "source": [
    "Only use category features"
   ]
  },
  {
   "cell_type": "code",
   "execution_count": 19,
   "metadata": {},
   "outputs": [
    {
     "data": {
      "text/html": [
       "<div>\n",
       "<style scoped>\n",
       "    .dataframe tbody tr th:only-of-type {\n",
       "        vertical-align: middle;\n",
       "    }\n",
       "\n",
       "    .dataframe tbody tr th {\n",
       "        vertical-align: top;\n",
       "    }\n",
       "\n",
       "    .dataframe thead th {\n",
       "        text-align: right;\n",
       "    }\n",
       "</style>\n",
       "<table border=\"1\" class=\"dataframe\">\n",
       "  <thead>\n",
       "    <tr style=\"text-align: right;\">\n",
       "      <th></th>\n",
       "      <th>Region_ ARMM</th>\n",
       "      <th>Region_CAR</th>\n",
       "      <th>Region_Caraga</th>\n",
       "      <th>Region_I - Ilocos Region</th>\n",
       "      <th>Region_II - Cagayan Valley</th>\n",
       "      <th>Region_III - Central Luzon</th>\n",
       "      <th>Region_IVA - CALABARZON</th>\n",
       "      <th>Region_IVB - MIMAROPA</th>\n",
       "      <th>Region_IX - Zasmboanga Peninsula</th>\n",
       "      <th>Region_NCR</th>\n",
       "      <th>...</th>\n",
       "      <th>Main Source of Water Supply_Lake, river, rain and others</th>\n",
       "      <th>Main Source of Water Supply_Others</th>\n",
       "      <th>Main Source of Water Supply_Own use, faucet, community water system</th>\n",
       "      <th>Main Source of Water Supply_Own use, tubed/piped deep well</th>\n",
       "      <th>Main Source of Water Supply_Peddler</th>\n",
       "      <th>Main Source of Water Supply_Protected spring, river, stream, etc</th>\n",
       "      <th>Main Source of Water Supply_Shared, faucet, community water system</th>\n",
       "      <th>Main Source of Water Supply_Shared, tubed/piped deep well</th>\n",
       "      <th>Main Source of Water Supply_Tubed/piped shallow well</th>\n",
       "      <th>Main Source of Water Supply_Unprotected spring, river, stream, etc</th>\n",
       "    </tr>\n",
       "  </thead>\n",
       "  <tbody>\n",
       "    <tr>\n",
       "      <th>0</th>\n",
       "      <td>0</td>\n",
       "      <td>0</td>\n",
       "      <td>0</td>\n",
       "      <td>0</td>\n",
       "      <td>1</td>\n",
       "      <td>0</td>\n",
       "      <td>0</td>\n",
       "      <td>0</td>\n",
       "      <td>0</td>\n",
       "      <td>0</td>\n",
       "      <td>...</td>\n",
       "      <td>0</td>\n",
       "      <td>0</td>\n",
       "      <td>0</td>\n",
       "      <td>0</td>\n",
       "      <td>0</td>\n",
       "      <td>0</td>\n",
       "      <td>0</td>\n",
       "      <td>1</td>\n",
       "      <td>0</td>\n",
       "      <td>0</td>\n",
       "    </tr>\n",
       "    <tr>\n",
       "      <th>1</th>\n",
       "      <td>0</td>\n",
       "      <td>0</td>\n",
       "      <td>1</td>\n",
       "      <td>0</td>\n",
       "      <td>0</td>\n",
       "      <td>0</td>\n",
       "      <td>0</td>\n",
       "      <td>0</td>\n",
       "      <td>0</td>\n",
       "      <td>0</td>\n",
       "      <td>...</td>\n",
       "      <td>0</td>\n",
       "      <td>0</td>\n",
       "      <td>1</td>\n",
       "      <td>0</td>\n",
       "      <td>0</td>\n",
       "      <td>0</td>\n",
       "      <td>0</td>\n",
       "      <td>0</td>\n",
       "      <td>0</td>\n",
       "      <td>0</td>\n",
       "    </tr>\n",
       "    <tr>\n",
       "      <th>2</th>\n",
       "      <td>0</td>\n",
       "      <td>0</td>\n",
       "      <td>0</td>\n",
       "      <td>0</td>\n",
       "      <td>0</td>\n",
       "      <td>0</td>\n",
       "      <td>0</td>\n",
       "      <td>0</td>\n",
       "      <td>0</td>\n",
       "      <td>0</td>\n",
       "      <td>...</td>\n",
       "      <td>0</td>\n",
       "      <td>0</td>\n",
       "      <td>0</td>\n",
       "      <td>0</td>\n",
       "      <td>0</td>\n",
       "      <td>0</td>\n",
       "      <td>1</td>\n",
       "      <td>0</td>\n",
       "      <td>0</td>\n",
       "      <td>0</td>\n",
       "    </tr>\n",
       "    <tr>\n",
       "      <th>3</th>\n",
       "      <td>0</td>\n",
       "      <td>0</td>\n",
       "      <td>0</td>\n",
       "      <td>0</td>\n",
       "      <td>0</td>\n",
       "      <td>0</td>\n",
       "      <td>0</td>\n",
       "      <td>0</td>\n",
       "      <td>0</td>\n",
       "      <td>0</td>\n",
       "      <td>...</td>\n",
       "      <td>0</td>\n",
       "      <td>0</td>\n",
       "      <td>1</td>\n",
       "      <td>0</td>\n",
       "      <td>0</td>\n",
       "      <td>0</td>\n",
       "      <td>0</td>\n",
       "      <td>0</td>\n",
       "      <td>0</td>\n",
       "      <td>0</td>\n",
       "    </tr>\n",
       "    <tr>\n",
       "      <th>4</th>\n",
       "      <td>0</td>\n",
       "      <td>0</td>\n",
       "      <td>0</td>\n",
       "      <td>0</td>\n",
       "      <td>0</td>\n",
       "      <td>0</td>\n",
       "      <td>0</td>\n",
       "      <td>1</td>\n",
       "      <td>0</td>\n",
       "      <td>0</td>\n",
       "      <td>...</td>\n",
       "      <td>0</td>\n",
       "      <td>0</td>\n",
       "      <td>0</td>\n",
       "      <td>1</td>\n",
       "      <td>0</td>\n",
       "      <td>0</td>\n",
       "      <td>0</td>\n",
       "      <td>0</td>\n",
       "      <td>0</td>\n",
       "      <td>0</td>\n",
       "    </tr>\n",
       "  </tbody>\n",
       "</table>\n",
       "<p>5 rows × 133 columns</p>\n",
       "</div>"
      ],
      "text/plain": [
       "   Region_ ARMM  Region_CAR  Region_Caraga  Region_I - Ilocos Region  \\\n",
       "0             0           0              0                         0   \n",
       "1             0           0              1                         0   \n",
       "2             0           0              0                         0   \n",
       "3             0           0              0                         0   \n",
       "4             0           0              0                         0   \n",
       "\n",
       "   Region_II - Cagayan Valley  Region_III - Central Luzon  \\\n",
       "0                           1                           0   \n",
       "1                           0                           0   \n",
       "2                           0                           0   \n",
       "3                           0                           0   \n",
       "4                           0                           0   \n",
       "\n",
       "   Region_IVA - CALABARZON  Region_IVB - MIMAROPA  \\\n",
       "0                        0                      0   \n",
       "1                        0                      0   \n",
       "2                        0                      0   \n",
       "3                        0                      0   \n",
       "4                        0                      1   \n",
       "\n",
       "   Region_IX - Zasmboanga Peninsula  Region_NCR  ...  \\\n",
       "0                                 0           0  ...   \n",
       "1                                 0           0  ...   \n",
       "2                                 0           0  ...   \n",
       "3                                 0           0  ...   \n",
       "4                                 0           0  ...   \n",
       "\n",
       "   Main Source of Water Supply_Lake, river, rain and others  \\\n",
       "0                                                  0          \n",
       "1                                                  0          \n",
       "2                                                  0          \n",
       "3                                                  0          \n",
       "4                                                  0          \n",
       "\n",
       "   Main Source of Water Supply_Others  \\\n",
       "0                                   0   \n",
       "1                                   0   \n",
       "2                                   0   \n",
       "3                                   0   \n",
       "4                                   0   \n",
       "\n",
       "   Main Source of Water Supply_Own use, faucet, community water system  \\\n",
       "0                                                  0                     \n",
       "1                                                  1                     \n",
       "2                                                  0                     \n",
       "3                                                  1                     \n",
       "4                                                  0                     \n",
       "\n",
       "   Main Source of Water Supply_Own use, tubed/piped deep well  \\\n",
       "0                                                  0            \n",
       "1                                                  0            \n",
       "2                                                  0            \n",
       "3                                                  0            \n",
       "4                                                  1            \n",
       "\n",
       "   Main Source of Water Supply_Peddler  \\\n",
       "0                                    0   \n",
       "1                                    0   \n",
       "2                                    0   \n",
       "3                                    0   \n",
       "4                                    0   \n",
       "\n",
       "   Main Source of Water Supply_Protected spring, river, stream, etc  \\\n",
       "0                                                  0                  \n",
       "1                                                  0                  \n",
       "2                                                  0                  \n",
       "3                                                  0                  \n",
       "4                                                  0                  \n",
       "\n",
       "   Main Source of Water Supply_Shared, faucet, community water system  \\\n",
       "0                                                  0                    \n",
       "1                                                  0                    \n",
       "2                                                  1                    \n",
       "3                                                  0                    \n",
       "4                                                  0                    \n",
       "\n",
       "   Main Source of Water Supply_Shared, tubed/piped deep well  \\\n",
       "0                                                  1           \n",
       "1                                                  0           \n",
       "2                                                  0           \n",
       "3                                                  0           \n",
       "4                                                  0           \n",
       "\n",
       "   Main Source of Water Supply_Tubed/piped shallow well  \\\n",
       "0                                                  0      \n",
       "1                                                  0      \n",
       "2                                                  0      \n",
       "3                                                  0      \n",
       "4                                                  0      \n",
       "\n",
       "   Main Source of Water Supply_Unprotected spring, river, stream, etc  \n",
       "0                                                  0                   \n",
       "1                                                  0                   \n",
       "2                                                  0                   \n",
       "3                                                  0                   \n",
       "4                                                  0                   \n",
       "\n",
       "[5 rows x 133 columns]"
      ]
     },
     "execution_count": 19,
     "metadata": {},
     "output_type": "execute_result"
    }
   ],
   "source": [
    "etest_data_t = etest_data.drop(['target'],axis = 1).loc[:,not_num]\n",
    "etrain_data_t = etrain_data.drop(['target'],axis = 1).loc[:,not_num]\n",
    "eval_data_t = eval_data.drop(['target'],axis = 1).loc[:,not_num]\n",
    "etrain_data_target = etrain_data[[\"target\"]]\n",
    "etest_data_target = etest_data[[\"target\"]]\n",
    "classifier = KNeighborsClassifier(n_neighbors=4)\n",
    "classifier.fit(etrain_data_t, etrain_data_target)\n",
    "y_pred = classifier.predict(etest_data_t)\n",
    "print(confusion_matrix(etest_data_target, y_pred))\n",
    "print(classification_report(etest_data_target, y_pred))"
   ]
  },
  {
   "cell_type": "markdown",
   "metadata": {},
   "source": [
    "## MDC"
   ]
  },
  {
   "cell_type": "code",
   "execution_count": null,
   "metadata": {},
   "outputs": [],
   "source": []
  }
 ],
 "metadata": {
  "kernelspec": {
   "display_name": "Python 3",
   "language": "python",
   "name": "python3"
  },
  "language_info": {
   "codemirror_mode": {
    "name": "ipython",
    "version": 3
   },
   "file_extension": ".py",
   "mimetype": "text/x-python",
   "name": "python",
   "nbconvert_exporter": "python",
   "pygments_lexer": "ipython3",
   "version": "3.7.3"
  }
 },
 "nbformat": 4,
 "nbformat_minor": 2
}
