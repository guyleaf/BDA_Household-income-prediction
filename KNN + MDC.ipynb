{
 "cells": [
  {
   "cell_type": "markdown",
   "metadata": {},
   "source": [
    "# KNN"
   ]
  },
  {
   "cell_type": "code",
   "execution_count": 1,
   "metadata": {},
   "outputs": [],
   "source": [
    "import numpy as np\n",
    "import matplotlib.pyplot as plt\n",
    "import pandas as pd\n",
    "from sklearn.neighbors import KNeighborsClassifier\n",
    "from sklearn.metrics import classification_report, confusion_matrix\n",
    "from matplotlib.colors import ListedColormap"
   ]
  },
  {
   "cell_type": "code",
   "execution_count": 2,
   "metadata": {},
   "outputs": [],
   "source": [
    "etest_data = pd.read_csv(\"data/etest.csv\")\n",
    "etrain_data = pd.read_csv(\"data/etrain.csv\")\n",
    "eval_data = pd.read_csv(\"data/evalidation.csv\")\n",
    "test_data = pd.read_csv(\"data/test.csv\")\n",
    "train_data = pd.read_csv(\"data/train.csv\")\n",
    "val_data = pd.read_csv(\"data/validation.csv\")\n",
    "numeric_features = np.load('numeric_features.npy')"
   ]
  },
  {
   "cell_type": "code",
   "execution_count": 3,
   "metadata": {},
   "outputs": [],
   "source": [
    "not_num=[]\n",
    "for i in etest_data.columns:\n",
    "    if(i not in numeric_features and i != 'target'):\n",
    "        not_num.append(i)"
   ]
  },
  {
   "cell_type": "code",
   "execution_count": 4,
   "metadata": {},
   "outputs": [],
   "source": [
    "etest_data_t = etest_data.drop(['target'],axis = 1)\n",
    "etrain_data_t = etrain_data.drop(['target'],axis = 1)\n",
    "eval_data_t = eval_data.drop(['target'],axis = 1)\n",
    "n_etest_data_t = etest_data.drop(['target'],axis = 1).loc[:,numeric_features]\n",
    "n_etrain_data_t = etrain_data.drop(['target'],axis = 1).loc[:,numeric_features]\n",
    "n_eval_data_t = eval_data.drop(['target'],axis = 1).loc[:,numeric_features]\n",
    "nn_etest_data_t = etest_data.drop(['target'],axis = 1).loc[:,not_num]\n",
    "nn_etrain_data_t = etrain_data.drop(['target'],axis = 1).loc[:,not_num]\n",
    "nn_eval_data_t = eval_data.drop(['target'],axis = 1).loc[:,not_num]\n",
    "etrain_data_target = etrain_data[[\"target\"]]\n",
    "etest_data_target = etest_data[[\"target\"]]"
   ]
  },
  {
   "cell_type": "markdown",
   "metadata": {},
   "source": [
    "Mix feature"
   ]
  },
  {
   "cell_type": "code",
   "execution_count": 5,
   "metadata": {},
   "outputs": [
    {
     "name": "stdout",
     "output_type": "stream",
     "text": [
      "[[1322  482  196   51]\n",
      " [ 750  775  448  117]\n",
      " [ 395  577  775  363]\n",
      " [  96  201  617 1144]]\n",
      "              precision    recall  f1-score   support\n",
      "\n",
      "           0       0.52      0.64      0.57      2051\n",
      "           1       0.38      0.37      0.38      2090\n",
      "           2       0.38      0.37      0.37      2110\n",
      "           3       0.68      0.56      0.61      2058\n",
      "\n",
      "    accuracy                           0.48      8309\n",
      "   macro avg       0.49      0.48      0.48      8309\n",
      "weighted avg       0.49      0.48      0.48      8309\n",
      "\n"
     ]
    }
   ],
   "source": [
    "classifier = KNeighborsClassifier(n_neighbors=4)\n",
    "classifier.fit(etrain_data_t, etrain_data_target.values.ravel())\n",
    "y_pred = classifier.predict(etest_data_t)\n",
    "print(confusion_matrix(etest_data_target, y_pred))\n",
    "print(classification_report(etest_data_target, y_pred))"
   ]
  },
  {
   "cell_type": "markdown",
   "metadata": {},
   "source": [
    "Only use numeric features"
   ]
  },
  {
   "cell_type": "code",
   "execution_count": 6,
   "metadata": {},
   "outputs": [
    {
     "name": "stdout",
     "output_type": "stream",
     "text": [
      "[[1600  364   80    7]\n",
      " [ 860  854  344   32]\n",
      " [ 314  710  887  199]\n",
      " [  43  157  643 1215]]\n",
      "              precision    recall  f1-score   support\n",
      "\n",
      "           0       0.57      0.78      0.66      2051\n",
      "           1       0.41      0.41      0.41      2090\n",
      "           2       0.45      0.42      0.44      2110\n",
      "           3       0.84      0.59      0.69      2058\n",
      "\n",
      "    accuracy                           0.55      8309\n",
      "   macro avg       0.57      0.55      0.55      8309\n",
      "weighted avg       0.57      0.55      0.55      8309\n",
      "\n"
     ]
    }
   ],
   "source": [
    "classifier = KNeighborsClassifier(n_neighbors=4)\n",
    "classifier.fit(n_etrain_data_t, etrain_data_target.values.ravel())\n",
    "y_pred = classifier.predict(n_etest_data_t)\n",
    "print(confusion_matrix(etest_data_target, y_pred))\n",
    "print(classification_report(etest_data_target, y_pred))"
   ]
  },
  {
   "cell_type": "markdown",
   "metadata": {},
   "source": [
    "Only use category features"
   ]
  },
  {
   "cell_type": "code",
   "execution_count": 7,
   "metadata": {},
   "outputs": [
    {
     "name": "stdout",
     "output_type": "stream",
     "text": [
      "[[1144  487  282  138]\n",
      " [ 667  652  514  257]\n",
      " [ 377  521  695  517]\n",
      " [ 129  225  635 1069]]\n",
      "              precision    recall  f1-score   support\n",
      "\n",
      "           0       0.49      0.56      0.52      2051\n",
      "           1       0.35      0.31      0.33      2090\n",
      "           2       0.33      0.33      0.33      2110\n",
      "           3       0.54      0.52      0.53      2058\n",
      "\n",
      "    accuracy                           0.43      8309\n",
      "   macro avg       0.43      0.43      0.43      8309\n",
      "weighted avg       0.43      0.43      0.43      8309\n",
      "\n"
     ]
    }
   ],
   "source": [
    "classifier = KNeighborsClassifier(n_neighbors=4)\n",
    "classifier.fit(nn_etrain_data_t, etrain_data_target.values.ravel())\n",
    "y_pred = classifier.predict(nn_etest_data_t)\n",
    "print(confusion_matrix(etest_data_target, y_pred))\n",
    "print(classification_report(etest_data_target, y_pred))"
   ]
  },
  {
   "cell_type": "markdown",
   "metadata": {},
   "source": [
    "## MDC"
   ]
  },
  {
   "cell_type": "code",
   "execution_count": 8,
   "metadata": {},
   "outputs": [],
   "source": [
    "from sklearn.neighbors import NearestCentroid "
   ]
  },
  {
   "cell_type": "markdown",
   "metadata": {},
   "source": [
    "Mix feature"
   ]
  },
  {
   "cell_type": "code",
   "execution_count": 9,
   "metadata": {},
   "outputs": [
    {
     "name": "stdout",
     "output_type": "stream",
     "text": [
      "[[1132  492  260  167]\n",
      " [ 620  628  561  281]\n",
      " [ 247  448  735  680]\n",
      " [  41  126  372 1519]]\n",
      "              precision    recall  f1-score   support\n",
      "\n",
      "           0       0.55      0.55      0.55      2051\n",
      "           1       0.37      0.30      0.33      2090\n",
      "           2       0.38      0.35      0.36      2110\n",
      "           3       0.57      0.74      0.65      2058\n",
      "\n",
      "    accuracy                           0.48      8309\n",
      "   macro avg       0.47      0.48      0.47      8309\n",
      "weighted avg       0.47      0.48      0.47      8309\n",
      "\n"
     ]
    }
   ],
   "source": [
    "model = NearestCentroid() \n",
    "model.fit(etrain_data_t, etrain_data_target.values.ravel()) \n",
    "y_pred = model.predict(etest_data_t)\n",
    "print(confusion_matrix(etest_data_target, y_pred))\n",
    "print(classification_report(etest_data_target, y_pred))"
   ]
  },
  {
   "cell_type": "markdown",
   "metadata": {},
   "source": [
    "Only use numeric features"
   ]
  },
  {
   "cell_type": "code",
   "execution_count": 10,
   "metadata": {},
   "outputs": [
    {
     "name": "stdout",
     "output_type": "stream",
     "text": [
      "[[1369  567  111    4]\n",
      " [ 680  890  484   36]\n",
      " [ 310  497  967  336]\n",
      " [  83   66  451 1458]]\n",
      "              precision    recall  f1-score   support\n",
      "\n",
      "           0       0.56      0.67      0.61      2051\n",
      "           1       0.44      0.43      0.43      2090\n",
      "           2       0.48      0.46      0.47      2110\n",
      "           3       0.79      0.71      0.75      2058\n",
      "\n",
      "    accuracy                           0.56      8309\n",
      "   macro avg       0.57      0.57      0.57      8309\n",
      "weighted avg       0.57      0.56      0.56      8309\n",
      "\n"
     ]
    }
   ],
   "source": [
    "model = NearestCentroid() \n",
    "model.fit(n_etrain_data_t, etrain_data_target.values.ravel()) \n",
    "y_pred = model.predict(n_etest_data_t)\n",
    "print(confusion_matrix(etest_data_target, y_pred))\n",
    "print(classification_report(etest_data_target, y_pred))"
   ]
  },
  {
   "cell_type": "markdown",
   "metadata": {},
   "source": [
    "Only use category features"
   ]
  },
  {
   "cell_type": "code",
   "execution_count": 11,
   "metadata": {},
   "outputs": [
    {
     "name": "stdout",
     "output_type": "stream",
     "text": [
      "[[1116  466  239  230]\n",
      " [ 630  604  488  368]\n",
      " [ 263  434  648  765]\n",
      " [  50  153  405 1450]]\n",
      "              precision    recall  f1-score   support\n",
      "\n",
      "           0       0.54      0.54      0.54      2051\n",
      "           1       0.36      0.29      0.32      2090\n",
      "           2       0.36      0.31      0.33      2110\n",
      "           3       0.52      0.70      0.60      2058\n",
      "\n",
      "    accuracy                           0.46      8309\n",
      "   macro avg       0.45      0.46      0.45      8309\n",
      "weighted avg       0.45      0.46      0.45      8309\n",
      "\n"
     ]
    }
   ],
   "source": [
    "model = NearestCentroid() \n",
    "model.fit(nn_etrain_data_t, etrain_data_target.values.ravel()) \n",
    "y_pred = model.predict(nn_etest_data_t)\n",
    "print(confusion_matrix(etest_data_target, y_pred))\n",
    "print(classification_report(etest_data_target, y_pred))"
   ]
  }
 ],
 "metadata": {
  "kernelspec": {
   "display_name": "Python 3",
   "language": "python",
   "name": "python3"
  },
  "language_info": {
   "codemirror_mode": {
    "name": "ipython",
    "version": 3
   },
   "file_extension": ".py",
   "mimetype": "text/x-python",
   "name": "python",
   "nbconvert_exporter": "python",
   "pygments_lexer": "ipython3",
   "version": "3.7.3"
  }
 },
 "nbformat": 4,
 "nbformat_minor": 2
}
