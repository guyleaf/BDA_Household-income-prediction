{
 "cells": [
  {
   "cell_type": "markdown",
   "metadata": {},
   "source": [
    "# DecisionTree"
   ]
  },
  {
   "cell_type": "markdown",
   "metadata": {},
   "source": [
    "### Mix"
   ]
  },
  {
   "cell_type": "code",
   "execution_count": 18,
   "metadata": {},
   "outputs": [],
   "source": [
    "from sklearn.metrics import classification_report\n",
    "from sklearn.tree import DecisionTreeClassifier\n",
    "from sklearn.ensemble import RandomForestClassifier\n",
    "from sklearn.model_selection import RandomizedSearchCV\n",
    "from scipy.stats import randint\n",
    "import pandas as pd\n",
    "import numpy as np\n",
    "import matplotlib.pyplot as plt\n",
    "\n",
    "train = pd.read_csv('./data/etrain.csv')\n",
    "test = pd.read_csv('./data/etest.csv')\n",
    "validation = pd.read_csv('./data/evalidation.csv')\n",
    "class_list = np.load('./class_list.npy')\n",
    "\n",
    "train_target = train['target']\n",
    "train = train.drop(columns = ['target'])\n",
    "test_target = test['target']\n",
    "test = test.drop(columns = ['target'])\n",
    "validation_target = validation['target']\n",
    "validation = validation.drop(columns = ['target'])\n",
    "selected_feature = np.load('./selected_features.npy', allow_pickle=True)\n",
    "train = train[selected_feature]\n",
    "test = test[selected_feature]\n",
    "validation = validation[selected_feature]"
   ]
  },
  {
   "cell_type": "code",
   "execution_count": 4,
   "metadata": {},
   "outputs": [
    {
     "data": {
      "text/plain": [
       "RandomizedSearchCV(cv=5, error_score=nan,\n",
       "                   estimator=DecisionTreeClassifier(ccp_alpha=0.0,\n",
       "                                                    class_weight=None,\n",
       "                                                    criterion='gini',\n",
       "                                                    max_depth=None,\n",
       "                                                    max_features=None,\n",
       "                                                    max_leaf_nodes=None,\n",
       "                                                    min_impurity_decrease=0.0,\n",
       "                                                    min_impurity_split=None,\n",
       "                                                    min_samples_leaf=1,\n",
       "                                                    min_samples_split=2,\n",
       "                                                    min_weight_fraction_leaf=0.0,\n",
       "                                                    presort='deprecated',\n",
       "                                                    random_state=None,\n",
       "                                                    splitter='best'),\n",
       "                   iid='deprecated', n_iter=100, n_jobs=-1,\n",
       "                   param_distributions={'max_depth': range(3, 100),\n",
       "                                        'max_features': range(1, 60)},\n",
       "                   pre_dispatch='2*n_jobs', random_state=None, refit=True,\n",
       "                   return_train_score=False, scoring=None, verbose=0)"
      ]
     },
     "execution_count": 4,
     "metadata": {},
     "output_type": "execute_result"
    }
   ],
   "source": [
    "classifier = DecisionTreeClassifier()\n",
    "param_dist = {\n",
    "    'max_depth': range(3, 100),\n",
    "    \"max_features\": range(1, 60),\n",
    "}\n",
    "\n",
    "tree_cv = RandomizedSearchCV(classifier, param_dist, cv=5, n_iter=100, n_jobs=-1)\n",
    "\n",
    "tree_cv.fit(train, train_target)"
   ]
  },
  {
   "cell_type": "code",
   "execution_count": 10,
   "metadata": {},
   "outputs": [
    {
     "name": "stdout",
     "output_type": "stream",
     "text": [
      "Tuned Decision Tree Parameters: {'max_features': 50, 'max_depth': 8}\n",
      "Best score is 0.7006166261007732\n"
     ]
    }
   ],
   "source": [
    "print(\"Tuned Decision Tree Parameters: {}\".format(tree_cv.best_params_))\n",
    "print(\"Best score is {}\".format(tree_cv.best_score_))"
   ]
  },
  {
   "cell_type": "code",
   "execution_count": 17,
   "metadata": {},
   "outputs": [
    {
     "name": "stdout",
     "output_type": "stream",
     "text": [
      "0.7121193886147551\n",
      "0.7057319091319392\n",
      "              precision    recall  f1-score   support\n",
      "\n",
      "           0       0.78      0.80      0.79      2051\n",
      "           1       0.58      0.64      0.61      2090\n",
      "           2       0.65      0.60      0.62      2110\n",
      "           3       0.86      0.82      0.84      2058\n",
      "\n",
      "    accuracy                           0.71      8309\n",
      "   macro avg       0.72      0.71      0.71      8309\n",
      "weighted avg       0.72      0.71      0.71      8309\n",
      "\n",
      "              precision    recall  f1-score   support\n",
      "\n",
      "           0       0.78      0.81      0.80      1688\n",
      "           1       0.59      0.63      0.61      1709\n",
      "           2       0.61      0.60      0.60      1588\n",
      "           3       0.85      0.78      0.82      1662\n",
      "\n",
      "    accuracy                           0.71      6647\n",
      "   macro avg       0.71      0.70      0.71      6647\n",
      "weighted avg       0.71      0.71      0.71      6647\n",
      "\n"
     ]
    }
   ],
   "source": [
    "predict_target = tree_cv.predict(test)\n",
    "validation_predict_target = tree_cv.predict(validation)\n",
    "print(tree_cv.score(test, test_target))\n",
    "print(tree_cv.score(validation, validation_target))\n",
    "print(classification_report(test_target, predict_target))\n",
    "print(classification_report(validation_target, validation_predict_target))"
   ]
  },
  {
   "cell_type": "code",
   "execution_count": 19,
   "metadata": {},
   "outputs": [
    {
     "data": {
      "image/png": "[encoded data removed]",
      "text/plain": [
       "<Figure size 1080x1080 with 1 Axes>"
      ]
     },
     "metadata": {
      "needs_background": "light"
     },
     "output_type": "display_data"
    }
   ],
   "source": [
    "feat_importances = pd.Series(tree_cv.best_estimator_.feature_importances_, index=train.columns)\n",
    "plt.figure(figsize=(15, 15))\n",
    "f = feat_importances.nlargest(20)\n",
    "f.plot(kind='barh')\n",
    "plt.show()"
   ]
  },
  {
   "cell_type": "markdown",
   "metadata": {},
   "source": [
    "### Only numeric features"
   ]
  },
  {
   "cell_type": "code",
   "execution_count": 151,
   "metadata": {},
   "outputs": [],
   "source": [
    "train = pd.read_csv('./data/etrain.csv')\n",
    "test = pd.read_csv('./data/etest.csv')\n",
    "validation = pd.read_csv('./data/evalidation.csv')\n",
    "numeric_feature = np.load('./numeric_features.npy')\n",
    "\n",
    "train_target = train['target']\n",
    "train = train.drop(columns = ['target'])\n",
    "test_target = test['target']\n",
    "test = test.drop(columns = ['target'])\n",
    "\n",
    "train = train[numeric_feature]\n",
    "test = test[numeric_feature]\n",
    "validation = validation[numeric_feature]"
   ]
  },
  {
   "cell_type": "code",
   "execution_count": 152,
   "metadata": {},
   "outputs": [
    {
     "data": {
      "text/plain": [
       "RandomizedSearchCV(cv=5, error_score=nan,\n",
       "                   estimator=DecisionTreeClassifier(ccp_alpha=0.0,\n",
       "                                                    class_weight=None,\n",
       "                                                    criterion='gini',\n",
       "                                                    max_depth=None,\n",
       "                                                    max_features=None,\n",
       "                                                    max_leaf_nodes=None,\n",
       "                                                    min_impurity_decrease=0.0,\n",
       "                                                    min_impurity_split=None,\n",
       "                                                    min_samples_leaf=1,\n",
       "                                                    min_samples_split=2,\n",
       "                                                    min_weight_fraction_leaf=0.0,\n",
       "                                                    presort='deprecated',\n",
       "                                                    random_state=None,\n",
       "                                                    splitter='best'),\n",
       "                   iid='deprecated', n_iter=100, n_jobs=-1,\n",
       "                   param_distributions={'max_depth': range(3, 100),\n",
       "                                        'max_features': range(1, 60)},\n",
       "                   pre_dispatch='2*n_jobs', random_state=None, refit=True,\n",
       "                   return_train_score=False, scoring=None, verbose=0)"
      ]
     },
     "execution_count": 152,
     "metadata": {},
     "output_type": "execute_result"
    }
   ],
   "source": [
    "classifier = DecisionTreeClassifier()\n",
    "param_dist = {\n",
    "    'max_depth': range(3, 100),\n",
    "    \"max_features\": range(1, 60),\n",
    "}\n",
    "\n",
    "tree_cv = RandomizedSearchCV(classifier, param_dist, cv=5, n_iter=100, n_jobs=-1)\n",
    "\n",
    "tree_cv.fit(train, train_target)"
   ]
  },
  {
   "cell_type": "code",
   "execution_count": 153,
   "metadata": {},
   "outputs": [
    {
     "name": "stdout",
     "output_type": "stream",
     "text": [
      "Tuned Decision Tree Parameters: {'max_features': 43, 'max_depth': 11}\n",
      "Best score is 0.6991119828732734\n"
     ]
    }
   ],
   "source": [
    "print(\"Tuned Decision Tree Parameters: {}\".format(tree_cv.best_params_))\n",
    "print(\"Best score is {}\".format(tree_cv.best_score_))"
   ]
  },
  {
   "cell_type": "code",
   "execution_count": 154,
   "metadata": {},
   "outputs": [
    {
     "name": "stdout",
     "output_type": "stream",
     "text": [
      "0.7000842459983151\n",
      "              precision    recall  f1-score   support\n",
      "\n",
      "           0       0.78      0.79      0.78      2051\n",
      "           1       0.57      0.64      0.60      2090\n",
      "           2       0.62      0.60      0.61      2110\n",
      "           3       0.86      0.78      0.81      2058\n",
      "\n",
      "    accuracy                           0.70      8309\n",
      "   macro avg       0.71      0.70      0.70      8309\n",
      "weighted avg       0.71      0.70      0.70      8309\n",
      "\n"
     ]
    }
   ],
   "source": [
    "predict_target = tree_cv.predict(test)\n",
    "print(tree_cv.score(test, test_target))\n",
    "print(classification_report(test_target, predict_target))"
   ]
  },
  {
   "cell_type": "markdown",
   "metadata": {},
   "source": [
    "### Only Categorical"
   ]
  },
  {
   "cell_type": "code",
   "execution_count": 160,
   "metadata": {},
   "outputs": [],
   "source": [
    "train = pd.read_csv('./data/etrain.csv')\n",
    "test = pd.read_csv('./data/etest.csv')\n",
    "validation = pd.read_csv('./data/evalidation.csv')\n",
    "numeric_feature = np.load('./numeric_features.npy')\n",
    "\n",
    "train_target = train['target']\n",
    "train = train.drop(columns = ['target'])\n",
    "test_target = test['target']\n",
    "test = test.drop(columns = ['target'])\n",
    "\n",
    "train = train.drop(columns=numeric_feature)\n",
    "test = test.drop(columns=numeric_feature)\n",
    "validation = validation.drop(columns=numeric_feature)"
   ]
  },
  {
   "cell_type": "code",
   "execution_count": 161,
   "metadata": {},
   "outputs": [
    {
     "data": {
      "text/plain": [
       "RandomizedSearchCV(cv=5, error_score=nan,\n",
       "                   estimator=DecisionTreeClassifier(ccp_alpha=0.0,\n",
       "                                                    class_weight=None,\n",
       "                                                    criterion='gini',\n",
       "                                                    max_depth=None,\n",
       "                                                    max_features=None,\n",
       "                                                    max_leaf_nodes=None,\n",
       "                                                    min_impurity_decrease=0.0,\n",
       "                                                    min_impurity_split=None,\n",
       "                                                    min_samples_leaf=1,\n",
       "                                                    min_samples_split=2,\n",
       "                                                    min_weight_fraction_leaf=0.0,\n",
       "                                                    presort='deprecated',\n",
       "                                                    random_state=None,\n",
       "                                                    splitter='best'),\n",
       "                   iid='deprecated', n_iter=100, n_jobs=-1,\n",
       "                   param_distributions={'max_depth': range(3, 100),\n",
       "                                        'max_features': range(1, 60)},\n",
       "                   pre_dispatch='2*n_jobs', random_state=None, refit=True,\n",
       "                   return_train_score=False, scoring=None, verbose=0)"
      ]
     },
     "execution_count": 161,
     "metadata": {},
     "output_type": "execute_result"
    }
   ],
   "source": [
    "classifier = DecisionTreeClassifier()\n",
    "param_dist = {\n",
    "    'max_depth': range(3, 100),\n",
    "    \"max_features\": range(1, 60),\n",
    "}\n",
    "\n",
    "tree_cv = RandomizedSearchCV(classifier, param_dist, cv=5, n_iter=100, n_jobs=-1)\n",
    "\n",
    "tree_cv.fit(train, train_target)"
   ]
  },
  {
   "cell_type": "code",
   "execution_count": 162,
   "metadata": {},
   "outputs": [
    {
     "name": "stdout",
     "output_type": "stream",
     "text": [
      "Tuned Decision Tree Parameters: {'max_features': 47, 'max_depth': 13}\n",
      "Best score is 0.44576518879780114\n"
     ]
    }
   ],
   "source": [
    "print(\"Tuned Decision Tree Parameters: {}\".format(tree_cv.best_params_))\n",
    "print(\"Best score is {}\".format(tree_cv.best_score_))"
   ]
  },
  {
   "cell_type": "code",
   "execution_count": 163,
   "metadata": {},
   "outputs": [
    {
     "name": "stdout",
     "output_type": "stream",
     "text": [
      "0.44517992538211576\n",
      "              precision    recall  f1-score   support\n",
      "\n",
      "           0       0.49      0.56      0.52      2051\n",
      "           1       0.34      0.29      0.32      2090\n",
      "           2       0.34      0.29      0.32      2110\n",
      "           3       0.55      0.65      0.59      2058\n",
      "\n",
      "    accuracy                           0.45      8309\n",
      "   macro avg       0.43      0.45      0.44      8309\n",
      "weighted avg       0.43      0.45      0.44      8309\n",
      "\n"
     ]
    }
   ],
   "source": [
    "predict_target = tree_cv.predict(test)\n",
    "print(tree_cv.score(test, test_target))\n",
    "print(classification_report(test_target, predict_target))"
   ]
  }
 ],
 "metadata": {
  "kernelspec": {
   "display_name": "Python 3",
   "language": "python",
   "name": "python3"
  },
  "language_info": {
   "codemirror_mode": {
    "name": "ipython",
    "version": 3
   },
   "file_extension": ".py",
   "mimetype": "text/x-python",
   "name": "python",
   "nbconvert_exporter": "python",
   "pygments_lexer": "ipython3",
   "version": "3.7.6"
  }
 },
 "nbformat": 4,
 "nbformat_minor": 4
}
